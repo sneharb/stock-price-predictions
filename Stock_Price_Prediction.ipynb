{
  "nbformat": 4,
  "nbformat_minor": 0,
  "metadata": {
    "colab": {
      "name": "Stock-Price-Prediction.ipynb",
      "provenance": [],
      "collapsed_sections": []
    },
    "kernelspec": {
      "name": "python3",
      "display_name": "Python 3"
    },
    "language_info": {
      "name": "python"
    }
  },
  "cells": [
    {
      "cell_type": "code",
      "metadata": {
        "id": "mq4b1W5Y0gn3"
      },
      "source": [
        "import numpy as np # linear algebra\n",
        "import pandas as pd # data processing, CSV file I/O (e.g. pd.read_csv)\n",
        "import os\n",
        "import matplotlib.pyplot as plt\n",
        "plt.style.use(\"fivethirtyeight\")\n",
        "\n",
        "from keras.models import Sequential\n",
        "from keras.layers import Dense, Dropout, LSTM, GRU, Bidirectional\n",
        "from keras.optimizers import SGD\n",
        "\n",
        "from sklearn.preprocessing import MinMaxScaler\n",
        "from sklearn.metrics import mean_squared_error\n",
        "\n",
        "import math\n",
        "import warnings\n",
        "warnings.filterwarnings(\"ignore\")"
      ],
      "execution_count": 66,
      "outputs": []
    },
    {
      "cell_type": "markdown",
      "metadata": {
        "id": "owAqHE-6zgxi"
      },
      "source": [
        "Model **using MSFT dataset(1 day interval)** **bold text**\n",
        "\n",
        "---\n",
        "\n"
      ]
    },
    {
      "cell_type": "code",
      "metadata": {
        "colab": {
          "base_uri": "https://localhost:8080/"
        },
        "id": "H3-l-iFE2Q6l",
        "outputId": "f3685da7-c144-4937-9816-ebbc59d200b1"
      },
      "source": [
        "df = pd.read_csv(\"MSFT.csv\", index_col='Date', parse_dates=[\"Date\"])\n",
        "df.shape"
      ],
      "execution_count": 2,
      "outputs": [
        {
          "output_type": "execute_result",
          "data": {
            "text/plain": [
              "(8857, 6)"
            ]
          },
          "metadata": {
            "tags": []
          },
          "execution_count": 2
        }
      ]
    },
    {
      "cell_type": "code",
      "metadata": {
        "colab": {
          "base_uri": "https://localhost:8080/",
          "height": 234
        },
        "id": "fLJ2Spax2Uts",
        "outputId": "cb91cb35-22e5-47e3-89db-acf1d7086124"
      },
      "source": [
        "df.tail(5)"
      ],
      "execution_count": 3,
      "outputs": [
        {
          "output_type": "execute_result",
          "data": {
            "text/html": [
              "<div>\n",
              "<style scoped>\n",
              "    .dataframe tbody tr th:only-of-type {\n",
              "        vertical-align: middle;\n",
              "    }\n",
              "\n",
              "    .dataframe tbody tr th {\n",
              "        vertical-align: top;\n",
              "    }\n",
              "\n",
              "    .dataframe thead th {\n",
              "        text-align: right;\n",
              "    }\n",
              "</style>\n",
              "<table border=\"1\" class=\"dataframe\">\n",
              "  <thead>\n",
              "    <tr style=\"text-align: right;\">\n",
              "      <th></th>\n",
              "      <th>Open</th>\n",
              "      <th>High</th>\n",
              "      <th>Low</th>\n",
              "      <th>Close</th>\n",
              "      <th>Adj Close</th>\n",
              "      <th>Volume</th>\n",
              "    </tr>\n",
              "    <tr>\n",
              "      <th>Date</th>\n",
              "      <th></th>\n",
              "      <th></th>\n",
              "      <th></th>\n",
              "      <th></th>\n",
              "      <th></th>\n",
              "      <th></th>\n",
              "    </tr>\n",
              "  </thead>\n",
              "  <tbody>\n",
              "    <tr>\n",
              "      <th>2021-04-27</th>\n",
              "      <td>261.579987</td>\n",
              "      <td>263.190002</td>\n",
              "      <td>260.119995</td>\n",
              "      <td>261.970001</td>\n",
              "      <td>261.970001</td>\n",
              "      <td>31014200</td>\n",
              "    </tr>\n",
              "    <tr>\n",
              "      <th>2021-04-28</th>\n",
              "      <td>256.079987</td>\n",
              "      <td>256.540009</td>\n",
              "      <td>252.949997</td>\n",
              "      <td>254.559998</td>\n",
              "      <td>254.559998</td>\n",
              "      <td>46903100</td>\n",
              "    </tr>\n",
              "    <tr>\n",
              "      <th>2021-04-29</th>\n",
              "      <td>255.460007</td>\n",
              "      <td>256.100006</td>\n",
              "      <td>249.000000</td>\n",
              "      <td>252.509995</td>\n",
              "      <td>252.509995</td>\n",
              "      <td>40589000</td>\n",
              "    </tr>\n",
              "    <tr>\n",
              "      <th>2021-04-30</th>\n",
              "      <td>249.740005</td>\n",
              "      <td>253.080002</td>\n",
              "      <td>249.600006</td>\n",
              "      <td>252.179993</td>\n",
              "      <td>252.179993</td>\n",
              "      <td>30929200</td>\n",
              "    </tr>\n",
              "    <tr>\n",
              "      <th>2021-05-03</th>\n",
              "      <td>253.399994</td>\n",
              "      <td>254.350006</td>\n",
              "      <td>251.119995</td>\n",
              "      <td>251.860001</td>\n",
              "      <td>251.860001</td>\n",
              "      <td>19598900</td>\n",
              "    </tr>\n",
              "  </tbody>\n",
              "</table>\n",
              "</div>"
            ],
            "text/plain": [
              "                  Open        High  ...   Adj Close    Volume\n",
              "Date                                ...                      \n",
              "2021-04-27  261.579987  263.190002  ...  261.970001  31014200\n",
              "2021-04-28  256.079987  256.540009  ...  254.559998  46903100\n",
              "2021-04-29  255.460007  256.100006  ...  252.509995  40589000\n",
              "2021-04-30  249.740005  253.080002  ...  252.179993  30929200\n",
              "2021-05-03  253.399994  254.350006  ...  251.860001  19598900\n",
              "\n",
              "[5 rows x 6 columns]"
            ]
          },
          "metadata": {
            "tags": []
          },
          "execution_count": 3
        }
      ]
    },
    {
      "cell_type": "code",
      "metadata": {
        "colab": {
          "base_uri": "https://localhost:8080/",
          "height": 447
        },
        "id": "ZPm8CGoCLcmE",
        "outputId": "56682721-bc64-406f-de76-01dd457f5588"
      },
      "source": [
        "df"
      ],
      "execution_count": 4,
      "outputs": [
        {
          "output_type": "execute_result",
          "data": {
            "text/html": [
              "<div>\n",
              "<style scoped>\n",
              "    .dataframe tbody tr th:only-of-type {\n",
              "        vertical-align: middle;\n",
              "    }\n",
              "\n",
              "    .dataframe tbody tr th {\n",
              "        vertical-align: top;\n",
              "    }\n",
              "\n",
              "    .dataframe thead th {\n",
              "        text-align: right;\n",
              "    }\n",
              "</style>\n",
              "<table border=\"1\" class=\"dataframe\">\n",
              "  <thead>\n",
              "    <tr style=\"text-align: right;\">\n",
              "      <th></th>\n",
              "      <th>Open</th>\n",
              "      <th>High</th>\n",
              "      <th>Low</th>\n",
              "      <th>Close</th>\n",
              "      <th>Adj Close</th>\n",
              "      <th>Volume</th>\n",
              "    </tr>\n",
              "    <tr>\n",
              "      <th>Date</th>\n",
              "      <th></th>\n",
              "      <th></th>\n",
              "      <th></th>\n",
              "      <th></th>\n",
              "      <th></th>\n",
              "      <th></th>\n",
              "    </tr>\n",
              "  </thead>\n",
              "  <tbody>\n",
              "    <tr>\n",
              "      <th>1986-03-13</th>\n",
              "      <td>0.088542</td>\n",
              "      <td>0.101563</td>\n",
              "      <td>0.088542</td>\n",
              "      <td>0.097222</td>\n",
              "      <td>0.061751</td>\n",
              "      <td>1031788800</td>\n",
              "    </tr>\n",
              "    <tr>\n",
              "      <th>1986-03-14</th>\n",
              "      <td>0.097222</td>\n",
              "      <td>0.102431</td>\n",
              "      <td>0.097222</td>\n",
              "      <td>0.100694</td>\n",
              "      <td>0.063956</td>\n",
              "      <td>308160000</td>\n",
              "    </tr>\n",
              "    <tr>\n",
              "      <th>1986-03-17</th>\n",
              "      <td>0.100694</td>\n",
              "      <td>0.103299</td>\n",
              "      <td>0.100694</td>\n",
              "      <td>0.102431</td>\n",
              "      <td>0.065059</td>\n",
              "      <td>133171200</td>\n",
              "    </tr>\n",
              "    <tr>\n",
              "      <th>1986-03-18</th>\n",
              "      <td>0.102431</td>\n",
              "      <td>0.103299</td>\n",
              "      <td>0.098958</td>\n",
              "      <td>0.099826</td>\n",
              "      <td>0.063405</td>\n",
              "      <td>67766400</td>\n",
              "    </tr>\n",
              "    <tr>\n",
              "      <th>1986-03-19</th>\n",
              "      <td>0.099826</td>\n",
              "      <td>0.100694</td>\n",
              "      <td>0.097222</td>\n",
              "      <td>0.098090</td>\n",
              "      <td>0.062302</td>\n",
              "      <td>47894400</td>\n",
              "    </tr>\n",
              "    <tr>\n",
              "      <th>...</th>\n",
              "      <td>...</td>\n",
              "      <td>...</td>\n",
              "      <td>...</td>\n",
              "      <td>...</td>\n",
              "      <td>...</td>\n",
              "      <td>...</td>\n",
              "    </tr>\n",
              "    <tr>\n",
              "      <th>2021-04-27</th>\n",
              "      <td>261.579987</td>\n",
              "      <td>263.190002</td>\n",
              "      <td>260.119995</td>\n",
              "      <td>261.970001</td>\n",
              "      <td>261.970001</td>\n",
              "      <td>31014200</td>\n",
              "    </tr>\n",
              "    <tr>\n",
              "      <th>2021-04-28</th>\n",
              "      <td>256.079987</td>\n",
              "      <td>256.540009</td>\n",
              "      <td>252.949997</td>\n",
              "      <td>254.559998</td>\n",
              "      <td>254.559998</td>\n",
              "      <td>46903100</td>\n",
              "    </tr>\n",
              "    <tr>\n",
              "      <th>2021-04-29</th>\n",
              "      <td>255.460007</td>\n",
              "      <td>256.100006</td>\n",
              "      <td>249.000000</td>\n",
              "      <td>252.509995</td>\n",
              "      <td>252.509995</td>\n",
              "      <td>40589000</td>\n",
              "    </tr>\n",
              "    <tr>\n",
              "      <th>2021-04-30</th>\n",
              "      <td>249.740005</td>\n",
              "      <td>253.080002</td>\n",
              "      <td>249.600006</td>\n",
              "      <td>252.179993</td>\n",
              "      <td>252.179993</td>\n",
              "      <td>30929200</td>\n",
              "    </tr>\n",
              "    <tr>\n",
              "      <th>2021-05-03</th>\n",
              "      <td>253.399994</td>\n",
              "      <td>254.350006</td>\n",
              "      <td>251.119995</td>\n",
              "      <td>251.860001</td>\n",
              "      <td>251.860001</td>\n",
              "      <td>19598900</td>\n",
              "    </tr>\n",
              "  </tbody>\n",
              "</table>\n",
              "<p>8857 rows × 6 columns</p>\n",
              "</div>"
            ],
            "text/plain": [
              "                  Open        High  ...   Adj Close      Volume\n",
              "Date                                ...                        \n",
              "1986-03-13    0.088542    0.101563  ...    0.061751  1031788800\n",
              "1986-03-14    0.097222    0.102431  ...    0.063956   308160000\n",
              "1986-03-17    0.100694    0.103299  ...    0.065059   133171200\n",
              "1986-03-18    0.102431    0.103299  ...    0.063405    67766400\n",
              "1986-03-19    0.099826    0.100694  ...    0.062302    47894400\n",
              "...                ...         ...  ...         ...         ...\n",
              "2021-04-27  261.579987  263.190002  ...  261.970001    31014200\n",
              "2021-04-28  256.079987  256.540009  ...  254.559998    46903100\n",
              "2021-04-29  255.460007  256.100006  ...  252.509995    40589000\n",
              "2021-04-30  249.740005  253.080002  ...  252.179993    30929200\n",
              "2021-05-03  253.399994  254.350006  ...  251.860001    19598900\n",
              "\n",
              "[8857 rows x 6 columns]"
            ]
          },
          "metadata": {
            "tags": []
          },
          "execution_count": 4
        }
      ]
    },
    {
      "cell_type": "code",
      "metadata": {
        "colab": {
          "base_uri": "https://localhost:8080/"
        },
        "id": "s2Lp7io82gc6",
        "outputId": "bf2225f2-223b-43a3-d5d2-c9ea5e80b19d"
      },
      "source": [
        "df1=df['Close']\n",
        "df1.shape"
      ],
      "execution_count": 5,
      "outputs": [
        {
          "output_type": "execute_result",
          "data": {
            "text/plain": [
              "(8857,)"
            ]
          },
          "metadata": {
            "tags": []
          },
          "execution_count": 5
        }
      ]
    },
    {
      "cell_type": "code",
      "metadata": {
        "colab": {
          "base_uri": "https://localhost:8080/",
          "height": 627
        },
        "id": "TtorWeme21jb",
        "outputId": "484fa204-d3c7-41fa-b4f3-09da8d79ae0c"
      },
      "source": [
        "plt.figure(figsize=(16,10))\n",
        "plt.title(\"Close Price History\")\n",
        "plt.plot(df1)\n",
        "plt.xlabel('Date',fontsize=18)\n",
        "plt.ylabel('Close Price',fontsize=18)\n",
        "plt.show()"
      ],
      "execution_count": 6,
      "outputs": [
        {
          "output_type": "display_data",
          "data": {
            "image/png": "[encoded data removed]",
            "text/plain": [
              "<Figure size 1152x720 with 1 Axes>"
            ]
          },
          "metadata": {
            "tags": [],
            "needs_background": "light"
          }
        }
      ]
    },
    {
      "cell_type": "code",
      "metadata": {
        "id": "nWNGRo0u3GuV"
      },
      "source": [
        "scaler=MinMaxScaler(feature_range=(0,1))\n",
        "df1=scaler.fit_transform(np.array(df1).reshape(-1,1))"
      ],
      "execution_count": 7,
      "outputs": []
    },
    {
      "cell_type": "code",
      "metadata": {
        "colab": {
          "base_uri": "https://localhost:8080/"
        },
        "id": "ig6TCsTr3bY1",
        "outputId": "5f194a10-fc62-4233-fa48-a40d38fa0670"
      },
      "source": [
        "df1.shape"
      ],
      "execution_count": 8,
      "outputs": [
        {
          "output_type": "execute_result",
          "data": {
            "text/plain": [
              "(8857, 1)"
            ]
          },
          "metadata": {
            "tags": []
          },
          "execution_count": 8
        }
      ]
    },
    {
      "cell_type": "code",
      "metadata": {
        "id": "YcAtB6Ac3cqh",
        "colab": {
          "base_uri": "https://localhost:8080/"
        },
        "outputId": "3d05fb10-4db1-4e95-f1cc-8ed01fc82e5d"
      },
      "source": [
        "#splitting dataset\n",
        "training_size=int(len(df1)*0.75)\n",
        "test_size=len(df1)-training_size\n",
        "train_data,test_data=df1[0:training_size,:],df1[training_size:len(df1),:1]\n",
        "training_size,test_size"
      ],
      "execution_count": 9,
      "outputs": [
        {
          "output_type": "execute_result",
          "data": {
            "text/plain": [
              "(6642, 2215)"
            ]
          },
          "metadata": {
            "tags": []
          },
          "execution_count": 9
        }
      ]
    },
    {
      "cell_type": "code",
      "metadata": {
        "colab": {
          "base_uri": "https://localhost:8080/"
        },
        "id": "u68zauSS4BUO",
        "outputId": "83e8a1ca-0966-4427-e407-5079a892839e"
      },
      "source": [
        "df1"
      ],
      "execution_count": 10,
      "outputs": [
        {
          "output_type": "execute_result",
          "data": {
            "text/plain": [
              "array([[2.65159923e-05],\n",
              "       [3.97739884e-05],\n",
              "       [4.64067989e-05],\n",
              "       ...,\n",
              "       [9.63876521e-01],\n",
              "       [9.62616393e-01],\n",
              "       [9.61394489e-01]])"
            ]
          },
          "metadata": {
            "tags": []
          },
          "execution_count": 10
        }
      ]
    },
    {
      "cell_type": "code",
      "metadata": {
        "id": "yt8rVEBI6w5w"
      },
      "source": [
        "def create_dataset(dataset, time_step=1):\n",
        "  dataX, dataY = [], []\n",
        "  for i in range(len(dataset)-time_step-1):\n",
        "    a = dataset[i:(i+time_step), 0]\n",
        "    dataX.append(a)\n",
        "    dataY.append(dataset[i + time_step, 0])\n",
        "  return numpy.array(dataX), numpy.array(dataY)"
      ],
      "execution_count": 11,
      "outputs": []
    },
    {
      "cell_type": "code",
      "metadata": {
        "id": "wiGCPiLD7meL"
      },
      "source": [
        "import numpy\n",
        "time_step = 100\n",
        "x_train, y_train = create_dataset(train_data, time_step)\n",
        "x_test, y_test = create_dataset(test_data, time_step)"
      ],
      "execution_count": 12,
      "outputs": []
    },
    {
      "cell_type": "code",
      "metadata": {
        "colab": {
          "base_uri": "https://localhost:8080/"
        },
        "id": "JBpcUkrV8END",
        "outputId": "39a73605-70e9-4c9a-f406-5c6a17a81ec8"
      },
      "source": [
        "print(x_train)"
      ],
      "execution_count": 13,
      "outputs": [
        {
          "output_type": "stream",
          "text": [
            "[[2.65159923e-05 3.97739884e-05 4.64067989e-05 ... 3.31449904e-05\n",
            "  2.98304913e-05 2.98304913e-05]\n",
            " [3.97739884e-05 4.64067989e-05 3.64594894e-05 ... 2.98304913e-05\n",
            "  2.98304913e-05 2.65159923e-05]\n",
            " [4.64067989e-05 3.64594894e-05 2.98304913e-05 ... 2.98304913e-05\n",
            "  2.65159923e-05 2.32014933e-05]\n",
            " ...\n",
            " [1.15166312e-01 1.14402600e-01 1.19137605e-01 ... 1.17113772e-01\n",
            "  1.16884661e-01 1.14937202e-01]\n",
            " [1.14402600e-01 1.19137605e-01 1.18984859e-01 ... 1.16884661e-01\n",
            "  1.14937202e-01 1.14211676e-01]\n",
            " [1.19137605e-01 1.18984859e-01 1.19710385e-01 ... 1.14937202e-01\n",
            "  1.14211676e-01 1.13218853e-01]]\n"
          ],
          "name": "stdout"
        }
      ]
    },
    {
      "cell_type": "code",
      "metadata": {
        "colab": {
          "base_uri": "https://localhost:8080/"
        },
        "id": "Knn0HpfC-7Tp",
        "outputId": "c9c3a0e4-3221-49db-9c58-eea47e9c5b88"
      },
      "source": [
        "print(x_train.shape), print(y_train.shape)"
      ],
      "execution_count": 14,
      "outputs": [
        {
          "output_type": "stream",
          "text": [
            "(6541, 100)\n",
            "(6541,)\n"
          ],
          "name": "stdout"
        },
        {
          "output_type": "execute_result",
          "data": {
            "text/plain": [
              "(None, None)"
            ]
          },
          "metadata": {
            "tags": []
          },
          "execution_count": 14
        }
      ]
    },
    {
      "cell_type": "code",
      "metadata": {
        "colab": {
          "base_uri": "https://localhost:8080/"
        },
        "id": "ijZXwhVzAYLg",
        "outputId": "804ffc4a-2d48-4263-9f7a-6d854c07c7b1"
      },
      "source": [
        "print(x_test.shape), print(y_test.shape)"
      ],
      "execution_count": 15,
      "outputs": [
        {
          "output_type": "stream",
          "text": [
            "(2114, 100)\n",
            "(2114,)\n"
          ],
          "name": "stdout"
        },
        {
          "output_type": "execute_result",
          "data": {
            "text/plain": [
              "(None, None)"
            ]
          },
          "metadata": {
            "tags": []
          },
          "execution_count": 15
        }
      ]
    },
    {
      "cell_type": "code",
      "metadata": {
        "id": "k4GLQpm6_G60"
      },
      "source": [
        "x_train = x_train.reshape(x_train.shape[0],x_train.shape[1], 1)\n",
        "x_test = x_test.reshape(x_test.shape[0],x_test.shape[1], 1)"
      ],
      "execution_count": 16,
      "outputs": []
    },
    {
      "cell_type": "code",
      "metadata": {
        "id": "nupBTRgt_a-8",
        "colab": {
          "base_uri": "https://localhost:8080/"
        },
        "outputId": "2a850e79-ca7b-4cbc-feb7-a5eebf2a9a1c"
      },
      "source": [
        "# The GRU architecture\n",
        "model = Sequential()\n",
        "# First GRU layer with Dropout regularisation\n",
        "model.add(GRU(units=50, return_sequences=True, input_shape=(x_train.shape[1],1)))\n",
        "model.add(Dropout(0.2))\n",
        "# Second GRU layer\n",
        "model.add(GRU(units=50, return_sequences=True))\n",
        "model.add(Dropout(0.2))\n",
        "# Third GRU layer\n",
        "model.add(GRU(units=50, return_sequences=True))\n",
        "model.add(Dropout(0.2))\n",
        "# Fourth GRU layer\n",
        "model.add(GRU(units=50))\n",
        "model.add(Dropout(0.2))\n",
        "# The output layer\n",
        "model.add(Dense(units=1))\n",
        "\n",
        "# Compiling the RNN\n",
        "model.compile(optimizer='adam',loss='mean_squared_error')\n",
        "# Fitting to the training set\n",
        "model.fit(x_train,y_train,epochs=10,batch_size=32)"
      ],
      "execution_count": 17,
      "outputs": [
        {
          "output_type": "stream",
          "text": [
            "Epoch 1/10\n",
            "205/205 [==============================] - 57s 166ms/step - loss: 7.9735e-04\n",
            "Epoch 2/10\n",
            "205/205 [==============================] - 34s 166ms/step - loss: 9.0877e-05\n",
            "Epoch 3/10\n",
            "205/205 [==============================] - 34s 167ms/step - loss: 8.1915e-05\n",
            "Epoch 4/10\n",
            "205/205 [==============================] - 34s 166ms/step - loss: 6.0358e-05\n",
            "Epoch 5/10\n",
            "205/205 [==============================] - 34s 164ms/step - loss: 6.0033e-05\n",
            "Epoch 6/10\n",
            "205/205 [==============================] - 34s 167ms/step - loss: 5.9990e-05\n",
            "Epoch 7/10\n",
            "205/205 [==============================] - 34s 166ms/step - loss: 5.4468e-05\n",
            "Epoch 8/10\n",
            "205/205 [==============================] - 34s 167ms/step - loss: 5.0729e-05\n",
            "Epoch 9/10\n",
            "205/205 [==============================] - 35s 168ms/step - loss: 5.1162e-05\n",
            "Epoch 10/10\n",
            "205/205 [==============================] - 34s 168ms/step - loss: 4.7046e-05\n"
          ],
          "name": "stdout"
        },
        {
          "output_type": "execute_result",
          "data": {
            "text/plain": [
              "<keras.callbacks.History at 0x7fd603299e90>"
            ]
          },
          "metadata": {
            "tags": []
          },
          "execution_count": 17
        }
      ]
    },
    {
      "cell_type": "code",
      "metadata": {
        "id": "lpVdPxgb3VVJ"
      },
      "source": [
        "model.save(\"model.h5\")"
      ],
      "execution_count": 18,
      "outputs": []
    },
    {
      "cell_type": "code",
      "metadata": {
        "colab": {
          "base_uri": "https://localhost:8080/"
        },
        "id": "HPAjrP8m6aQQ",
        "outputId": "e142e974-2b39-429a-9ea0-d7e6ebbf3279"
      },
      "source": [
        "from google.colab import drive\n",
        "drive.mount('/content/drive')"
      ],
      "execution_count": 19,
      "outputs": [
        {
          "output_type": "stream",
          "text": [
            "Drive already mounted at /content/drive; to attempt to forcibly remount, call drive.mount(\"/content/drive\", force_remount=True).\n"
          ],
          "name": "stdout"
        }
      ]
    },
    {
      "cell_type": "code",
      "metadata": {
        "colab": {
          "base_uri": "https://localhost:8080/"
        },
        "id": "dqsUiCIiA5GN",
        "outputId": "d7254bb8-5499-4d78-bb93-bbb8e81a66e8"
      },
      "source": [
        "model.summary()"
      ],
      "execution_count": 20,
      "outputs": [
        {
          "output_type": "stream",
          "text": [
            "Model: \"sequential\"\n",
            "_________________________________________________________________\n",
            "Layer (type)                 Output Shape              Param #   \n",
            "=================================================================\n",
            "gru (GRU)                    (None, 100, 50)           7950      \n",
            "_________________________________________________________________\n",
            "dropout (Dropout)            (None, 100, 50)           0         \n",
            "_________________________________________________________________\n",
            "gru_1 (GRU)                  (None, 100, 50)           15300     \n",
            "_________________________________________________________________\n",
            "dropout_1 (Dropout)          (None, 100, 50)           0         \n",
            "_________________________________________________________________\n",
            "gru_2 (GRU)                  (None, 100, 50)           15300     \n",
            "_________________________________________________________________\n",
            "dropout_2 (Dropout)          (None, 100, 50)           0         \n",
            "_________________________________________________________________\n",
            "gru_3 (GRU)                  (None, 50)                15300     \n",
            "_________________________________________________________________\n",
            "dropout_3 (Dropout)          (None, 50)                0         \n",
            "_________________________________________________________________\n",
            "dense (Dense)                (None, 1)                 51        \n",
            "=================================================================\n",
            "Total params: 53,901\n",
            "Trainable params: 53,901\n",
            "Non-trainable params: 0\n",
            "_________________________________________________________________\n"
          ],
          "name": "stdout"
        }
      ]
    },
    {
      "cell_type": "code",
      "metadata": {
        "id": "N7MsnUiOBW9L"
      },
      "source": [
        "train_predict=model.predict(x_train)\n",
        "test_predict=model.predict(x_test)"
      ],
      "execution_count": 21,
      "outputs": []
    },
    {
      "cell_type": "code",
      "metadata": {
        "id": "ERPK_RIYBplR"
      },
      "source": [
        "train_predict=scaler.inverse_transform(train_predict)\n",
        "test_predict=scaler.inverse_transform(test_predict)"
      ],
      "execution_count": 22,
      "outputs": []
    },
    {
      "cell_type": "code",
      "metadata": {
        "colab": {
          "base_uri": "https://localhost:8080/"
        },
        "id": "WnvVKPyhB45Q",
        "outputId": "0fd0b9a3-ccb8-4501-ec2f-848495013eae"
      },
      "source": [
        "math.sqrt(mean_squared_error(y_train,train_predict))"
      ],
      "execution_count": 23,
      "outputs": [
        {
          "output_type": "execute_result",
          "data": {
            "text/plain": [
              "22.43149212464211"
            ]
          },
          "metadata": {
            "tags": []
          },
          "execution_count": 23
        }
      ]
    },
    {
      "cell_type": "code",
      "metadata": {
        "colab": {
          "base_uri": "https://localhost:8080/"
        },
        "id": "SVAbiaWLCFm2",
        "outputId": "3c119031-ecea-4770-bba4-38a0414b2083"
      },
      "source": [
        "math.sqrt(mean_squared_error(y_test,test_predict))"
      ],
      "execution_count": 24,
      "outputs": [
        {
          "output_type": "execute_result",
          "data": {
            "text/plain": [
              "102.06927839584318"
            ]
          },
          "metadata": {
            "tags": []
          },
          "execution_count": 24
        }
      ]
    },
    {
      "cell_type": "code",
      "metadata": {
        "colab": {
          "base_uri": "https://localhost:8080/",
          "height": 610
        },
        "id": "fnZHvdM6CNL_",
        "outputId": "3afb01b4-49be-47a6-c803-dac99c36b0b6"
      },
      "source": [
        "plt.figure(figsize=(16,10))\n",
        "look_back=100\n",
        "trainPredictPlot = numpy.empty_like(df1)\n",
        "trainPredictPlot[:, :] = np.nan\n",
        "trainPredictPlot[look_back:len(train_predict)+look_back, :] = train_predict\n",
        "\n",
        "testPredictPlot = numpy.empty_like(df1)\n",
        "testPredictPlot[:, :] = numpy.nan\n",
        "testPredictPlot[len(train_predict)+(look_back*2)+1:len(df1)-1, :] = test_predict\n",
        "\n",
        "plt.plot(scaler.inverse_transform(df1))\n",
        "plt.plot(trainPredictPlot)\n",
        "plt.plot(testPredictPlot)\n",
        "plt.xlabel('Date',fontsize=18)\n",
        "plt.ylabel('Close price',fontsize=18)\n",
        "plt.legend(['Actual Price','Trained Predictions', 'Test Predictions'], loc='upper left')\n",
        "plt.show()"
      ],
      "execution_count": 25,
      "outputs": [
        {
          "output_type": "display_data",
          "data": {
            "image/png": "[encoded data removed]",
            "text/plain": [
              "<Figure size 1152x720 with 1 Axes>"
            ]
          },
          "metadata": {
            "tags": [],
            "needs_background": "light"
          }
        }
      ]
    },
    {
      "cell_type": "code",
      "metadata": {
        "colab": {
          "base_uri": "https://localhost:8080/"
        },
        "id": "AjqnPd4y_s7r",
        "outputId": "59eaaa06-e647-4d79-dca7-85426ff65211"
      },
      "source": [
        "len(test_data)\n",
        "test_data"
      ],
      "execution_count": 26,
      "outputs": [
        {
          "output_type": "execute_result",
          "data": {
            "text/plain": [
              "array([[0.11188236],\n",
              "       [0.11207329],\n",
              "       [0.11291337],\n",
              "       ...,\n",
              "       [0.96387652],\n",
              "       [0.96261639],\n",
              "       [0.96139449]])"
            ]
          },
          "metadata": {
            "tags": []
          },
          "execution_count": 26
        }
      ]
    },
    {
      "cell_type": "code",
      "metadata": {
        "colab": {
          "base_uri": "https://localhost:8080/"
        },
        "id": "OZMKm_NyBRiB",
        "outputId": "347660a6-c1d8-46f2-d1d7-d1cbbbbd3314"
      },
      "source": [
        "x_input = test_data[2115:].reshape(1,-1)\n",
        "x_input.shape"
      ],
      "execution_count": 27,
      "outputs": [
        {
          "output_type": "execute_result",
          "data": {
            "text/plain": [
              "(1, 100)"
            ]
          },
          "metadata": {
            "tags": []
          },
          "execution_count": 27
        }
      ]
    },
    {
      "cell_type": "code",
      "metadata": {
        "colab": {
          "base_uri": "https://localhost:8080/"
        },
        "id": "l9qm0QWGBs7u",
        "outputId": "217a0c9c-fe8f-43ef-ba81-6d952dac4b0b"
      },
      "source": [
        "temp_input=list(x_input)\n",
        "temp_input=temp_input[0].tolist()\n",
        "temp_input"
      ],
      "execution_count": 28,
      "outputs": [
        {
          "output_type": "execute_result",
          "data": {
            "text/plain": [
              "[0.8244995597651891,\n",
              " 0.8084235100302337,\n",
              " 0.8035357746853464,\n",
              " 0.8139985558456202,\n",
              " 0.8175879992352969,\n",
              " 0.8173207312522366,\n",
              " 0.8369862243768686,\n",
              " 0.8375208186093906,\n",
              " 0.8343514177071526,\n",
              " 0.8496256052265255,\n",
              " 0.8547806668208744,\n",
              " 0.8436305169237003,\n",
              " 0.8502365867112368,\n",
              " 0.858675600952907,\n",
              " 0.8555825290364568,\n",
              " 0.8461507135819318,\n",
              " 0.8489764592489204,\n",
              " 0.8309147488218542,\n",
              " 0.8317166110374367,\n",
              " 0.810141844472883,\n",
              " 0.8332058419899194,\n",
              " 0.838284516332079,\n",
              " 0.830151051099166,\n",
              " 0.8203755221429901,\n",
              " 0.8257596872275054,\n",
              " 0.8130821418849544,\n",
              " 0.8116692399182598,\n",
              " 0.8261415652220503,\n",
              " 0.8563080622662512,\n",
              " 0.8587137654458009,\n",
              " 0.8624559250734548,\n",
              " 0.8761263298952617,\n",
              " 0.886818272812103,\n",
              " 0.8889948142350851,\n",
              " 0.9120206472592275,\n",
              " 0.8854054291118095,\n",
              " 0.9147700056740269,\n",
              " 0.9142354114415049,\n",
              " 0.9275621610280621,\n",
              " 0.923781778641113,\n",
              " 0.9245073118709073,\n",
              " 0.9255383358430573,\n",
              " 0.9305024584401337,\n",
              " 0.926874850557563,\n",
              " 0.9332518168549331,\n",
              " 0.9351610902948547,\n",
              " 0.9302351321906721,\n",
              " 0.9321444056305938,\n",
              " 0.9305787874259217,\n",
              " 0.9198105155232925,\n",
              " 0.8951426770422888,\n",
              " 0.8904077162017798,\n",
              " 0.8952954515466671,\n",
              " 0.8740643402173631,\n",
              " 0.8870092118093755,\n",
              " 0.9044217762588364,\n",
              " 0.892698809369845,\n",
              " 0.8686037878806584,\n",
              " 0.8654343869784203,\n",
              " 0.8840307499044098,\n",
              " 0.8679546419030533,\n",
              " 0.8923551541345954,\n",
              " 0.8871619280473526,\n",
              " 0.9051473094886309,\n",
              " 0.8998776961491988,\n",
              " 0.8962882527595217,\n",
              " 0.907362073670908,\n",
              " 0.9048035959869799,\n",
              " 0.8806704100048994,\n",
              " 0.8792575663046057,\n",
              " 0.9007941683762657,\n",
              " 0.90686564393128,\n",
              " 0.8987703431912608,\n",
              " 0.886856437304997,\n",
              " 0.9026652190568918,\n",
              " 0.8979302582163833,\n",
              " 0.8849853866243705,\n",
              " 0.8999540834013878,\n",
              " 0.9250801288627245,\n",
              " 0.9507407685565832,\n",
              " 0.9461203011947563,\n",
              " 0.95391011119242,\n",
              " 0.9667022665464552,\n",
              " 0.976630511740608,\n",
              " 0.9768596152307745,\n",
              " 0.9867114149063368,\n",
              " 0.975637652261352,\n",
              " 0.9905681845454753,\n",
              " 0.9953031453859841,\n",
              " 0.9876660516262976,\n",
              " 0.9858332237049666,\n",
              " 0.9946921639012726,\n",
              " 0.9816710215898741,\n",
              " 0.9968687635906563,\n",
              " 0.9983961590360328,\n",
              " 1.0,\n",
              " 0.9717045536364255,\n",
              " 0.9638765208794668,\n",
              " 0.9626163934171503,\n",
              " 0.9613944887141292]"
            ]
          },
          "metadata": {
            "tags": []
          },
          "execution_count": 28
        }
      ]
    },
    {
      "cell_type": "code",
      "metadata": {
        "id": "TDdX7GpeB85U",
        "colab": {
          "base_uri": "https://localhost:8080/"
        },
        "outputId": "313ed3e6-15fd-4813-efb3-33adf6bf8a20"
      },
      "source": [
        "#predictions for next 10 days\n",
        "from numpy import array\n",
        "lst_output=[]\n",
        "n_steps=100\n",
        "i=0\n",
        "while(i<10):\n",
        "  if(len(temp_input)>100):\n",
        "    x_input=np.array(temp_input[1:])\n",
        "    print(\"{} day input {}\".format(i,x_input))\n",
        "    x_input=x_input.reshape(1,-1)\n",
        "    x_input=x_input.reshape((1,n_steps,1))\n",
        "    yhat = model.predict(x_input,verbose=0)\n",
        "    print(\"{} day output {}\".format(i,yhat))\n",
        "    temp_input.extend(yhat[0].tolist())\n",
        "    temp_input=temp_input[1:]\n",
        "    lst_output.extend(yhat.tolist())\n",
        "    i=i+1\n",
        "  else:\n",
        "    x_input = x_input.reshape((1,n_steps,1))\n",
        "    yhat = model.predict(x_input,verbose=0)\n",
        "    print(yhat[0])\n",
        "    temp_input.extend(yhat[0].tolist())\n",
        "    print(len(temp_input))\n",
        "    lst_output.extend(yhat.tolist())\n",
        "    i=i+1\n",
        "\n",
        "print(lst_output)"
      ],
      "execution_count": 29,
      "outputs": [
        {
          "output_type": "stream",
          "text": [
            "[0.8944514]\n",
            "101\n",
            "1 day input [0.80842351 0.80353577 0.81399856 0.817588   0.81732073 0.83698622\n",
            " 0.83752082 0.83435142 0.84962561 0.85478067 0.84363052 0.85023659\n",
            " 0.8586756  0.85558253 0.84615071 0.84897646 0.83091475 0.83171661\n",
            " 0.81014184 0.83320584 0.83828452 0.83015105 0.82037552 0.82575969\n",
            " 0.81308214 0.81166924 0.82614157 0.85630806 0.85871377 0.86245593\n",
            " 0.87612633 0.88681827 0.88899481 0.91202065 0.88540543 0.91477001\n",
            " 0.91423541 0.92756216 0.92378178 0.92450731 0.92553834 0.93050246\n",
            " 0.92687485 0.93325182 0.93516109 0.93023513 0.93214441 0.93057879\n",
            " 0.91981052 0.89514268 0.89040772 0.89529545 0.87406434 0.88700921\n",
            " 0.90442178 0.89269881 0.86860379 0.86543439 0.88403075 0.86795464\n",
            " 0.89235515 0.88716193 0.90514731 0.8998777  0.89628825 0.90736207\n",
            " 0.9048036  0.88067041 0.87925757 0.90079417 0.90686564 0.89877034\n",
            " 0.88685644 0.90266522 0.89793026 0.88498539 0.89995408 0.92508013\n",
            " 0.95074077 0.9461203  0.95391011 0.96670227 0.97663051 0.97685962\n",
            " 0.98671141 0.97563765 0.99056818 0.99530315 0.98766605 0.98583322\n",
            " 0.99469216 0.98167102 0.99686876 0.99839616 1.         0.97170455\n",
            " 0.96387652 0.96261639 0.96139449 0.89445138]\n",
            "1 day output [[0.88218]]\n",
            "2 day input [0.80353577 0.81399856 0.817588   0.81732073 0.83698622 0.83752082\n",
            " 0.83435142 0.84962561 0.85478067 0.84363052 0.85023659 0.8586756\n",
            " 0.85558253 0.84615071 0.84897646 0.83091475 0.83171661 0.81014184\n",
            " 0.83320584 0.83828452 0.83015105 0.82037552 0.82575969 0.81308214\n",
            " 0.81166924 0.82614157 0.85630806 0.85871377 0.86245593 0.87612633\n",
            " 0.88681827 0.88899481 0.91202065 0.88540543 0.91477001 0.91423541\n",
            " 0.92756216 0.92378178 0.92450731 0.92553834 0.93050246 0.92687485\n",
            " 0.93325182 0.93516109 0.93023513 0.93214441 0.93057879 0.91981052\n",
            " 0.89514268 0.89040772 0.89529545 0.87406434 0.88700921 0.90442178\n",
            " 0.89269881 0.86860379 0.86543439 0.88403075 0.86795464 0.89235515\n",
            " 0.88716193 0.90514731 0.8998777  0.89628825 0.90736207 0.9048036\n",
            " 0.88067041 0.87925757 0.90079417 0.90686564 0.89877034 0.88685644\n",
            " 0.90266522 0.89793026 0.88498539 0.89995408 0.92508013 0.95074077\n",
            " 0.9461203  0.95391011 0.96670227 0.97663051 0.97685962 0.98671141\n",
            " 0.97563765 0.99056818 0.99530315 0.98766605 0.98583322 0.99469216\n",
            " 0.98167102 0.99686876 0.99839616 1.         0.97170455 0.96387652\n",
            " 0.96261639 0.96139449 0.89445138 0.88217998]\n",
            "2 day output [[0.8654746]]\n",
            "3 day input [0.81399856 0.817588   0.81732073 0.83698622 0.83752082 0.83435142\n",
            " 0.84962561 0.85478067 0.84363052 0.85023659 0.8586756  0.85558253\n",
            " 0.84615071 0.84897646 0.83091475 0.83171661 0.81014184 0.83320584\n",
            " 0.83828452 0.83015105 0.82037552 0.82575969 0.81308214 0.81166924\n",
            " 0.82614157 0.85630806 0.85871377 0.86245593 0.87612633 0.88681827\n",
            " 0.88899481 0.91202065 0.88540543 0.91477001 0.91423541 0.92756216\n",
            " 0.92378178 0.92450731 0.92553834 0.93050246 0.92687485 0.93325182\n",
            " 0.93516109 0.93023513 0.93214441 0.93057879 0.91981052 0.89514268\n",
            " 0.89040772 0.89529545 0.87406434 0.88700921 0.90442178 0.89269881\n",
            " 0.86860379 0.86543439 0.88403075 0.86795464 0.89235515 0.88716193\n",
            " 0.90514731 0.8998777  0.89628825 0.90736207 0.9048036  0.88067041\n",
            " 0.87925757 0.90079417 0.90686564 0.89877034 0.88685644 0.90266522\n",
            " 0.89793026 0.88498539 0.89995408 0.92508013 0.95074077 0.9461203\n",
            " 0.95391011 0.96670227 0.97663051 0.97685962 0.98671141 0.97563765\n",
            " 0.99056818 0.99530315 0.98766605 0.98583322 0.99469216 0.98167102\n",
            " 0.99686876 0.99839616 1.         0.97170455 0.96387652 0.96261639\n",
            " 0.96139449 0.89445138 0.88217998 0.86547458]\n",
            "3 day output [[0.84796196]]\n",
            "4 day input [0.817588   0.81732073 0.83698622 0.83752082 0.83435142 0.84962561\n",
            " 0.85478067 0.84363052 0.85023659 0.8586756  0.85558253 0.84615071\n",
            " 0.84897646 0.83091475 0.83171661 0.81014184 0.83320584 0.83828452\n",
            " 0.83015105 0.82037552 0.82575969 0.81308214 0.81166924 0.82614157\n",
            " 0.85630806 0.85871377 0.86245593 0.87612633 0.88681827 0.88899481\n",
            " 0.91202065 0.88540543 0.91477001 0.91423541 0.92756216 0.92378178\n",
            " 0.92450731 0.92553834 0.93050246 0.92687485 0.93325182 0.93516109\n",
            " 0.93023513 0.93214441 0.93057879 0.91981052 0.89514268 0.89040772\n",
            " 0.89529545 0.87406434 0.88700921 0.90442178 0.89269881 0.86860379\n",
            " 0.86543439 0.88403075 0.86795464 0.89235515 0.88716193 0.90514731\n",
            " 0.8998777  0.89628825 0.90736207 0.9048036  0.88067041 0.87925757\n",
            " 0.90079417 0.90686564 0.89877034 0.88685644 0.90266522 0.89793026\n",
            " 0.88498539 0.89995408 0.92508013 0.95074077 0.9461203  0.95391011\n",
            " 0.96670227 0.97663051 0.97685962 0.98671141 0.97563765 0.99056818\n",
            " 0.99530315 0.98766605 0.98583322 0.99469216 0.98167102 0.99686876\n",
            " 0.99839616 1.         0.97170455 0.96387652 0.96261639 0.96139449\n",
            " 0.89445138 0.88217998 0.86547458 0.84796196]\n",
            "4 day output [[0.8311412]]\n",
            "5 day input [0.81732073 0.83698622 0.83752082 0.83435142 0.84962561 0.85478067\n",
            " 0.84363052 0.85023659 0.8586756  0.85558253 0.84615071 0.84897646\n",
            " 0.83091475 0.83171661 0.81014184 0.83320584 0.83828452 0.83015105\n",
            " 0.82037552 0.82575969 0.81308214 0.81166924 0.82614157 0.85630806\n",
            " 0.85871377 0.86245593 0.87612633 0.88681827 0.88899481 0.91202065\n",
            " 0.88540543 0.91477001 0.91423541 0.92756216 0.92378178 0.92450731\n",
            " 0.92553834 0.93050246 0.92687485 0.93325182 0.93516109 0.93023513\n",
            " 0.93214441 0.93057879 0.91981052 0.89514268 0.89040772 0.89529545\n",
            " 0.87406434 0.88700921 0.90442178 0.89269881 0.86860379 0.86543439\n",
            " 0.88403075 0.86795464 0.89235515 0.88716193 0.90514731 0.8998777\n",
            " 0.89628825 0.90736207 0.9048036  0.88067041 0.87925757 0.90079417\n",
            " 0.90686564 0.89877034 0.88685644 0.90266522 0.89793026 0.88498539\n",
            " 0.89995408 0.92508013 0.95074077 0.9461203  0.95391011 0.96670227\n",
            " 0.97663051 0.97685962 0.98671141 0.97563765 0.99056818 0.99530315\n",
            " 0.98766605 0.98583322 0.99469216 0.98167102 0.99686876 0.99839616\n",
            " 1.         0.97170455 0.96387652 0.96261639 0.96139449 0.89445138\n",
            " 0.88217998 0.86547458 0.84796196 0.83114117]\n",
            "5 day output [[0.8152799]]\n",
            "6 day input [0.83698622 0.83752082 0.83435142 0.84962561 0.85478067 0.84363052\n",
            " 0.85023659 0.8586756  0.85558253 0.84615071 0.84897646 0.83091475\n",
            " 0.83171661 0.81014184 0.83320584 0.83828452 0.83015105 0.82037552\n",
            " 0.82575969 0.81308214 0.81166924 0.82614157 0.85630806 0.85871377\n",
            " 0.86245593 0.87612633 0.88681827 0.88899481 0.91202065 0.88540543\n",
            " 0.91477001 0.91423541 0.92756216 0.92378178 0.92450731 0.92553834\n",
            " 0.93050246 0.92687485 0.93325182 0.93516109 0.93023513 0.93214441\n",
            " 0.93057879 0.91981052 0.89514268 0.89040772 0.89529545 0.87406434\n",
            " 0.88700921 0.90442178 0.89269881 0.86860379 0.86543439 0.88403075\n",
            " 0.86795464 0.89235515 0.88716193 0.90514731 0.8998777  0.89628825\n",
            " 0.90736207 0.9048036  0.88067041 0.87925757 0.90079417 0.90686564\n",
            " 0.89877034 0.88685644 0.90266522 0.89793026 0.88498539 0.89995408\n",
            " 0.92508013 0.95074077 0.9461203  0.95391011 0.96670227 0.97663051\n",
            " 0.97685962 0.98671141 0.97563765 0.99056818 0.99530315 0.98766605\n",
            " 0.98583322 0.99469216 0.98167102 0.99686876 0.99839616 1.\n",
            " 0.97170455 0.96387652 0.96261639 0.96139449 0.89445138 0.88217998\n",
            " 0.86547458 0.84796196 0.83114117 0.8152799 ]\n",
            "6 day output [[0.8002825]]\n",
            "7 day input [0.83752082 0.83435142 0.84962561 0.85478067 0.84363052 0.85023659\n",
            " 0.8586756  0.85558253 0.84615071 0.84897646 0.83091475 0.83171661\n",
            " 0.81014184 0.83320584 0.83828452 0.83015105 0.82037552 0.82575969\n",
            " 0.81308214 0.81166924 0.82614157 0.85630806 0.85871377 0.86245593\n",
            " 0.87612633 0.88681827 0.88899481 0.91202065 0.88540543 0.91477001\n",
            " 0.91423541 0.92756216 0.92378178 0.92450731 0.92553834 0.93050246\n",
            " 0.92687485 0.93325182 0.93516109 0.93023513 0.93214441 0.93057879\n",
            " 0.91981052 0.89514268 0.89040772 0.89529545 0.87406434 0.88700921\n",
            " 0.90442178 0.89269881 0.86860379 0.86543439 0.88403075 0.86795464\n",
            " 0.89235515 0.88716193 0.90514731 0.8998777  0.89628825 0.90736207\n",
            " 0.9048036  0.88067041 0.87925757 0.90079417 0.90686564 0.89877034\n",
            " 0.88685644 0.90266522 0.89793026 0.88498539 0.89995408 0.92508013\n",
            " 0.95074077 0.9461203  0.95391011 0.96670227 0.97663051 0.97685962\n",
            " 0.98671141 0.97563765 0.99056818 0.99530315 0.98766605 0.98583322\n",
            " 0.99469216 0.98167102 0.99686876 0.99839616 1.         0.97170455\n",
            " 0.96387652 0.96261639 0.96139449 0.89445138 0.88217998 0.86547458\n",
            " 0.84796196 0.83114117 0.8152799  0.80028248]\n",
            "7 day output [[0.7860289]]\n",
            "8 day input [0.83435142 0.84962561 0.85478067 0.84363052 0.85023659 0.8586756\n",
            " 0.85558253 0.84615071 0.84897646 0.83091475 0.83171661 0.81014184\n",
            " 0.83320584 0.83828452 0.83015105 0.82037552 0.82575969 0.81308214\n",
            " 0.81166924 0.82614157 0.85630806 0.85871377 0.86245593 0.87612633\n",
            " 0.88681827 0.88899481 0.91202065 0.88540543 0.91477001 0.91423541\n",
            " 0.92756216 0.92378178 0.92450731 0.92553834 0.93050246 0.92687485\n",
            " 0.93325182 0.93516109 0.93023513 0.93214441 0.93057879 0.91981052\n",
            " 0.89514268 0.89040772 0.89529545 0.87406434 0.88700921 0.90442178\n",
            " 0.89269881 0.86860379 0.86543439 0.88403075 0.86795464 0.89235515\n",
            " 0.88716193 0.90514731 0.8998777  0.89628825 0.90736207 0.9048036\n",
            " 0.88067041 0.87925757 0.90079417 0.90686564 0.89877034 0.88685644\n",
            " 0.90266522 0.89793026 0.88498539 0.89995408 0.92508013 0.95074077\n",
            " 0.9461203  0.95391011 0.96670227 0.97663051 0.97685962 0.98671141\n",
            " 0.97563765 0.99056818 0.99530315 0.98766605 0.98583322 0.99469216\n",
            " 0.98167102 0.99686876 0.99839616 1.         0.97170455 0.96387652\n",
            " 0.96261639 0.96139449 0.89445138 0.88217998 0.86547458 0.84796196\n",
            " 0.83114117 0.8152799  0.80028248 0.78602892]\n",
            "8 day output [[0.7724351]]\n",
            "9 day input [0.84962561 0.85478067 0.84363052 0.85023659 0.8586756  0.85558253\n",
            " 0.84615071 0.84897646 0.83091475 0.83171661 0.81014184 0.83320584\n",
            " 0.83828452 0.83015105 0.82037552 0.82575969 0.81308214 0.81166924\n",
            " 0.82614157 0.85630806 0.85871377 0.86245593 0.87612633 0.88681827\n",
            " 0.88899481 0.91202065 0.88540543 0.91477001 0.91423541 0.92756216\n",
            " 0.92378178 0.92450731 0.92553834 0.93050246 0.92687485 0.93325182\n",
            " 0.93516109 0.93023513 0.93214441 0.93057879 0.91981052 0.89514268\n",
            " 0.89040772 0.89529545 0.87406434 0.88700921 0.90442178 0.89269881\n",
            " 0.86860379 0.86543439 0.88403075 0.86795464 0.89235515 0.88716193\n",
            " 0.90514731 0.8998777  0.89628825 0.90736207 0.9048036  0.88067041\n",
            " 0.87925757 0.90079417 0.90686564 0.89877034 0.88685644 0.90266522\n",
            " 0.89793026 0.88498539 0.89995408 0.92508013 0.95074077 0.9461203\n",
            " 0.95391011 0.96670227 0.97663051 0.97685962 0.98671141 0.97563765\n",
            " 0.99056818 0.99530315 0.98766605 0.98583322 0.99469216 0.98167102\n",
            " 0.99686876 0.99839616 1.         0.97170455 0.96387652 0.96261639\n",
            " 0.96139449 0.89445138 0.88217998 0.86547458 0.84796196 0.83114117\n",
            " 0.8152799  0.80028248 0.78602892 0.77243513]\n",
            "9 day output [[0.7594445]]\n",
            "[[0.894451379776001], [0.8821799755096436], [0.8654745817184448], [0.847961962223053], [0.8311411738395691], [0.8152799010276794], [0.8002824783325195], [0.7860289216041565], [0.7724351286888123], [0.7594444751739502]]\n"
          ],
          "name": "stdout"
        }
      ]
    },
    {
      "cell_type": "code",
      "metadata": {
        "id": "_eX3YS7cK3ft"
      },
      "source": [
        "day_new=np.arange(1,101)\n",
        "day_pred=np.arange(101,111)"
      ],
      "execution_count": 30,
      "outputs": []
    },
    {
      "cell_type": "code",
      "metadata": {
        "id": "WZX8-w2TLE88",
        "colab": {
          "base_uri": "https://localhost:8080/"
        },
        "outputId": "ec2b9a17-ce01-4455-e36c-3ff4e884df7c"
      },
      "source": [
        "len(df1)"
      ],
      "execution_count": 31,
      "outputs": [
        {
          "output_type": "execute_result",
          "data": {
            "text/plain": [
              "8857"
            ]
          },
          "metadata": {
            "tags": []
          },
          "execution_count": 31
        }
      ]
    },
    {
      "cell_type": "code",
      "metadata": {
        "id": "kxilNfJKLKS7"
      },
      "source": [
        "df3=df1.tolist()\n",
        "df3.extend(lst_output)"
      ],
      "execution_count": 32,
      "outputs": []
    },
    {
      "cell_type": "code",
      "metadata": {
        "id": "alt9TDw7LRtr",
        "colab": {
          "base_uri": "https://localhost:8080/",
          "height": 644
        },
        "outputId": "8fe991b1-b2a4-4c38-f9a8-71f0ad820ae0"
      },
      "source": [
        "plt.figure(figsize=(16,10))\n",
        "plt.plot(day_new,scaler.inverse_transform(df1[8757:]))\n",
        "plt.plot(day_pred,scaler.inverse_transform(lst_output))\n",
        "plt.title('Next 10 Days Prediction')\n",
        "plt.xlabel('Date',fontsize=18)\n",
        "plt.ylabel('Close Price',fontsize=18)\n",
        "plt.legend(['Actual ','10 Days Predictions'], loc='upper left')"
      ],
      "execution_count": 33,
      "outputs": [
        {
          "output_type": "execute_result",
          "data": {
            "text/plain": [
              "<matplotlib.legend.Legend at 0x7fd5fed1d950>"
            ]
          },
          "metadata": {
            "tags": []
          },
          "execution_count": 33
        },
        {
          "output_type": "display_data",
          "data": {
            "image/png": "[encoded data removed]",
            "text/plain": [
              "<Figure size 1152x720 with 1 Axes>"
            ]
          },
          "metadata": {
            "tags": [],
            "needs_background": "light"
          }
        }
      ]
    },
    {
      "cell_type": "code",
      "metadata": {
        "id": "JjXjGlYcLir_",
        "colab": {
          "base_uri": "https://localhost:8080/"
        },
        "outputId": "1ce06f20-784b-4d95-a817-ec43073edeb2"
      },
      "source": [
        "lst_output"
      ],
      "execution_count": 34,
      "outputs": [
        {
          "output_type": "execute_result",
          "data": {
            "text/plain": [
              "[[0.894451379776001],\n",
              " [0.8821799755096436],\n",
              " [0.8654745817184448],\n",
              " [0.847961962223053],\n",
              " [0.8311411738395691],\n",
              " [0.8152799010276794],\n",
              " [0.8002824783325195],\n",
              " [0.7860289216041565],\n",
              " [0.7724351286888123],\n",
              " [0.7594444751739502]]"
            ]
          },
          "metadata": {
            "tags": []
          },
          "execution_count": 34
        }
      ]
    },
    {
      "cell_type": "markdown",
      "metadata": {
        "id": "aR-4Ah941Bgz"
      },
      "source": [
        "**Model using DataFrame dataset(1 Min Interval)**"
      ]
    },
    {
      "cell_type": "code",
      "metadata": {
        "colab": {
          "base_uri": "https://localhost:8080/"
        },
        "id": "fdPhHuhzjHC0",
        "outputId": "8be49b98-b755-4e9e-ec96-442427336d53"
      },
      "source": [
        "df4 = pd.read_csv(\"DataFrame.csv\", index_col='Date', parse_dates=[\"Date\"])\n",
        "df4.drop('Unnamed: 7' , axis = 1 , inplace = True)\n",
        "df4.shape"
      ],
      "execution_count": 35,
      "outputs": [
        {
          "output_type": "execute_result",
          "data": {
            "text/plain": [
              "(22805, 6)"
            ]
          },
          "metadata": {
            "tags": []
          },
          "execution_count": 35
        }
      ]
    },
    {
      "cell_type": "code",
      "metadata": {
        "id": "fsfg3i2vLity",
        "colab": {
          "base_uri": "https://localhost:8080/",
          "height": 447
        },
        "outputId": "3d5a6271-9cb2-4957-f2dd-b6f2c690a720"
      },
      "source": [
        "df4"
      ],
      "execution_count": 36,
      "outputs": [
        {
          "output_type": "execute_result",
          "data": {
            "text/html": [
              "<div>\n",
              "<style scoped>\n",
              "    .dataframe tbody tr th:only-of-type {\n",
              "        vertical-align: middle;\n",
              "    }\n",
              "\n",
              "    .dataframe tbody tr th {\n",
              "        vertical-align: top;\n",
              "    }\n",
              "\n",
              "    .dataframe thead th {\n",
              "        text-align: right;\n",
              "    }\n",
              "</style>\n",
              "<table border=\"1\" class=\"dataframe\">\n",
              "  <thead>\n",
              "    <tr style=\"text-align: right;\">\n",
              "      <th></th>\n",
              "      <th>Type</th>\n",
              "      <th>Time</th>\n",
              "      <th>open</th>\n",
              "      <th>high</th>\n",
              "      <th>low</th>\n",
              "      <th>close</th>\n",
              "    </tr>\n",
              "    <tr>\n",
              "      <th>Date</th>\n",
              "      <th></th>\n",
              "      <th></th>\n",
              "      <th></th>\n",
              "      <th></th>\n",
              "      <th></th>\n",
              "      <th></th>\n",
              "    </tr>\n",
              "  </thead>\n",
              "  <tbody>\n",
              "    <tr>\n",
              "      <th>2021-01-01</th>\n",
              "      <td>NIFTY</td>\n",
              "      <td>09:16</td>\n",
              "      <td>13997.90</td>\n",
              "      <td>14020.85</td>\n",
              "      <td>13991.35</td>\n",
              "      <td>14013.15</td>\n",
              "    </tr>\n",
              "    <tr>\n",
              "      <th>2021-01-01</th>\n",
              "      <td>NIFTY</td>\n",
              "      <td>09:17</td>\n",
              "      <td>14014.85</td>\n",
              "      <td>14018.55</td>\n",
              "      <td>14008.15</td>\n",
              "      <td>14009.05</td>\n",
              "    </tr>\n",
              "    <tr>\n",
              "      <th>2021-01-01</th>\n",
              "      <td>NIFTY</td>\n",
              "      <td>09:18</td>\n",
              "      <td>14008.05</td>\n",
              "      <td>14013.10</td>\n",
              "      <td>14005.05</td>\n",
              "      <td>14012.70</td>\n",
              "    </tr>\n",
              "    <tr>\n",
              "      <th>2021-01-01</th>\n",
              "      <td>NIFTY</td>\n",
              "      <td>09:19</td>\n",
              "      <td>14013.65</td>\n",
              "      <td>14019.10</td>\n",
              "      <td>14013.65</td>\n",
              "      <td>14016.20</td>\n",
              "    </tr>\n",
              "    <tr>\n",
              "      <th>2021-01-01</th>\n",
              "      <td>NIFTY</td>\n",
              "      <td>09:20</td>\n",
              "      <td>14015.45</td>\n",
              "      <td>14017.80</td>\n",
              "      <td>14011.95</td>\n",
              "      <td>14015.45</td>\n",
              "    </tr>\n",
              "    <tr>\n",
              "      <th>...</th>\n",
              "      <td>...</td>\n",
              "      <td>...</td>\n",
              "      <td>...</td>\n",
              "      <td>...</td>\n",
              "      <td>...</td>\n",
              "      <td>...</td>\n",
              "    </tr>\n",
              "    <tr>\n",
              "      <th>2021-03-31</th>\n",
              "      <td>NIFTY</td>\n",
              "      <td>15:27</td>\n",
              "      <td>14687.35</td>\n",
              "      <td>14694.35</td>\n",
              "      <td>14686.30</td>\n",
              "      <td>14690.60</td>\n",
              "    </tr>\n",
              "    <tr>\n",
              "      <th>2021-03-31</th>\n",
              "      <td>NIFTY</td>\n",
              "      <td>15:28</td>\n",
              "      <td>14690.90</td>\n",
              "      <td>14690.90</td>\n",
              "      <td>14686.05</td>\n",
              "      <td>14689.30</td>\n",
              "    </tr>\n",
              "    <tr>\n",
              "      <th>2021-03-31</th>\n",
              "      <td>NIFTY</td>\n",
              "      <td>15:29</td>\n",
              "      <td>14690.30</td>\n",
              "      <td>14694.10</td>\n",
              "      <td>14688.55</td>\n",
              "      <td>14691.30</td>\n",
              "    </tr>\n",
              "    <tr>\n",
              "      <th>2021-03-31</th>\n",
              "      <td>NIFTY</td>\n",
              "      <td>15:30</td>\n",
              "      <td>14689.85</td>\n",
              "      <td>14693.55</td>\n",
              "      <td>14689.45</td>\n",
              "      <td>14693.05</td>\n",
              "    </tr>\n",
              "    <tr>\n",
              "      <th>2021-03-31</th>\n",
              "      <td>NIFTY</td>\n",
              "      <td>15:31</td>\n",
              "      <td>14690.70</td>\n",
              "      <td>14690.70</td>\n",
              "      <td>14690.70</td>\n",
              "      <td>14690.70</td>\n",
              "    </tr>\n",
              "  </tbody>\n",
              "</table>\n",
              "<p>22805 rows × 6 columns</p>\n",
              "</div>"
            ],
            "text/plain": [
              "             Type   Time      open      high       low     close\n",
              "Date                                                            \n",
              "2021-01-01  NIFTY  09:16  13997.90  14020.85  13991.35  14013.15\n",
              "2021-01-01  NIFTY  09:17  14014.85  14018.55  14008.15  14009.05\n",
              "2021-01-01  NIFTY  09:18  14008.05  14013.10  14005.05  14012.70\n",
              "2021-01-01  NIFTY  09:19  14013.65  14019.10  14013.65  14016.20\n",
              "2021-01-01  NIFTY  09:20  14015.45  14017.80  14011.95  14015.45\n",
              "...           ...    ...       ...       ...       ...       ...\n",
              "2021-03-31  NIFTY  15:27  14687.35  14694.35  14686.30  14690.60\n",
              "2021-03-31  NIFTY  15:28  14690.90  14690.90  14686.05  14689.30\n",
              "2021-03-31  NIFTY  15:29  14690.30  14694.10  14688.55  14691.30\n",
              "2021-03-31  NIFTY  15:30  14689.85  14693.55  14689.45  14693.05\n",
              "2021-03-31  NIFTY  15:31  14690.70  14690.70  14690.70  14690.70\n",
              "\n",
              "[22805 rows x 6 columns]"
            ]
          },
          "metadata": {
            "tags": []
          },
          "execution_count": 36
        }
      ]
    },
    {
      "cell_type": "code",
      "metadata": {
        "id": "T_WZMmDjLixX",
        "colab": {
          "base_uri": "https://localhost:8080/"
        },
        "outputId": "1d8d2470-4019-4785-92a8-70e37c4c548b"
      },
      "source": [
        "df5=df4['close']\n",
        "df5.shape"
      ],
      "execution_count": 37,
      "outputs": [
        {
          "output_type": "execute_result",
          "data": {
            "text/plain": [
              "(22805,)"
            ]
          },
          "metadata": {
            "tags": []
          },
          "execution_count": 37
        }
      ]
    },
    {
      "cell_type": "code",
      "metadata": {
        "colab": {
          "base_uri": "https://localhost:8080/",
          "height": 627
        },
        "id": "gFIWKIzJlIhw",
        "outputId": "a367e6f3-71cb-4017-e8b5-59bde3aa5cd4"
      },
      "source": [
        "plt.figure(figsize=(16,10))\n",
        "plt.title(\"Close Price History\")\n",
        "plt.plot(df5)\n",
        "plt.xlabel('Date',fontsize=18)\n",
        "plt.ylabel('Close Price',fontsize=18)\n",
        "plt.show()"
      ],
      "execution_count": 38,
      "outputs": [
        {
          "output_type": "display_data",
          "data": {
            "image/png": "[encoded data removed]",
            "text/plain": [
              "<Figure size 1152x720 with 1 Axes>"
            ]
          },
          "metadata": {
            "tags": [],
            "needs_background": "light"
          }
        }
      ]
    },
    {
      "cell_type": "code",
      "metadata": {
        "id": "pfTsxqFDlyVT"
      },
      "source": [
        "scaler=MinMaxScaler(feature_range=(0,1))\n",
        "df5=scaler.fit_transform(np.array(df5).reshape(-1,1))"
      ],
      "execution_count": 39,
      "outputs": []
    },
    {
      "cell_type": "code",
      "metadata": {
        "colab": {
          "base_uri": "https://localhost:8080/"
        },
        "id": "LLmjltGSl2up",
        "outputId": "481777eb-dfa8-4a5e-ad54-9a33cdc8db11"
      },
      "source": [
        "df5.shape"
      ],
      "execution_count": 40,
      "outputs": [
        {
          "output_type": "execute_result",
          "data": {
            "text/plain": [
              "(22805, 1)"
            ]
          },
          "metadata": {
            "tags": []
          },
          "execution_count": 40
        }
      ]
    },
    {
      "cell_type": "code",
      "metadata": {
        "colab": {
          "base_uri": "https://localhost:8080/"
        },
        "id": "Q_JXjgNpl8Dh",
        "outputId": "9d50168d-272e-4be7-ad35-6b4f96efa885"
      },
      "source": [
        "#splitting dataset\n",
        "training_size=int(len(df5)*0.75)\n",
        "test_size=len(df5)-training_size\n",
        "train_data,test_data=df5[0:training_size,:],df5[training_size:len(df5),:1]\n",
        "training_size,test_size"
      ],
      "execution_count": 41,
      "outputs": [
        {
          "output_type": "execute_result",
          "data": {
            "text/plain": [
              "(17103, 5702)"
            ]
          },
          "metadata": {
            "tags": []
          },
          "execution_count": 41
        }
      ]
    },
    {
      "cell_type": "code",
      "metadata": {
        "colab": {
          "base_uri": "https://localhost:8080/"
        },
        "id": "Uspk1WJRmCM9",
        "outputId": "de5e98c5-6cda-4839-ddcb-3e7b5e1de68c"
      },
      "source": [
        "df5"
      ],
      "execution_count": 42,
      "outputs": [
        {
          "output_type": "execute_result",
          "data": {
            "text/plain": [
              "array([[0.22455401],\n",
              "       [0.22231039],\n",
              "       [0.22430776],\n",
              "       ...,\n",
              "       [0.59565503],\n",
              "       [0.59661267],\n",
              "       [0.59532669]])"
            ]
          },
          "metadata": {
            "tags": []
          },
          "execution_count": 42
        }
      ]
    },
    {
      "cell_type": "code",
      "metadata": {
        "id": "0qOL7BOqmDWY"
      },
      "source": [
        "def create_dataset(dataset, time_step=1):\n",
        "  dataX, dataY = [], []\n",
        "  for i in range(len(dataset)-time_step-1):\n",
        "    a = dataset[i:(i+time_step), 0]\n",
        "    dataX.append(a)\n",
        "    dataY.append(dataset[i + time_step, 0])\n",
        "  return numpy.array(dataX), numpy.array(dataY)"
      ],
      "execution_count": 43,
      "outputs": []
    },
    {
      "cell_type": "code",
      "metadata": {
        "id": "1JvDzfHxmJno"
      },
      "source": [
        "import numpy\n",
        "time_step = 100\n",
        "x_train, y_train = create_dataset(train_data, time_step)\n",
        "x_test, y_test = create_dataset(test_data, time_step)"
      ],
      "execution_count": 44,
      "outputs": []
    },
    {
      "cell_type": "code",
      "metadata": {
        "colab": {
          "base_uri": "https://localhost:8080/"
        },
        "id": "fffHRDbJmgXD",
        "outputId": "46667e54-8b6c-4dcc-97a3-8b8fc1773039"
      },
      "source": [
        "print(x_train)"
      ],
      "execution_count": 45,
      "outputs": [
        {
          "output_type": "stream",
          "text": [
            "[[0.22455401 0.22231039 0.22430776 ... 0.23465032 0.23470505 0.23399365]\n",
            " [0.22231039 0.22430776 0.22622305 ... 0.23470505 0.23399365 0.23470505]\n",
            " [0.22430776 0.22622305 0.22581263 ... 0.23399365 0.23470505 0.23407574]\n",
            " ...\n",
            " [0.76679982 0.76666302 0.76838678 ... 0.76726497 0.76387217 0.75850936]\n",
            " [0.76666302 0.76838678 0.76663566 ... 0.76387217 0.75850936 0.75637518]\n",
            " [0.76838678 0.76663566 0.76543176 ... 0.75850936 0.75637518 0.7538853 ]]\n"
          ],
          "name": "stdout"
        }
      ]
    },
    {
      "cell_type": "code",
      "metadata": {
        "colab": {
          "base_uri": "https://localhost:8080/"
        },
        "id": "msTorhtdmmI6",
        "outputId": "6ae9f86d-49fd-41b3-8766-8b1847391154"
      },
      "source": [
        "print(x_train.shape), print(y_train.shape)"
      ],
      "execution_count": 46,
      "outputs": [
        {
          "output_type": "stream",
          "text": [
            "(17002, 100)\n",
            "(17002,)\n"
          ],
          "name": "stdout"
        },
        {
          "output_type": "execute_result",
          "data": {
            "text/plain": [
              "(None, None)"
            ]
          },
          "metadata": {
            "tags": []
          },
          "execution_count": 46
        }
      ]
    },
    {
      "cell_type": "code",
      "metadata": {
        "colab": {
          "base_uri": "https://localhost:8080/"
        },
        "id": "1OYhx0aVmqPM",
        "outputId": "396779e3-9256-46b8-fc29-1812cd8b8ce3"
      },
      "source": [
        "print(x_test.shape), print(y_test.shape)"
      ],
      "execution_count": 47,
      "outputs": [
        {
          "output_type": "stream",
          "text": [
            "(5601, 100)\n",
            "(5601,)\n"
          ],
          "name": "stdout"
        },
        {
          "output_type": "execute_result",
          "data": {
            "text/plain": [
              "(None, None)"
            ]
          },
          "metadata": {
            "tags": []
          },
          "execution_count": 47
        }
      ]
    },
    {
      "cell_type": "code",
      "metadata": {
        "id": "3eE_nSD4mvBh"
      },
      "source": [
        "x_train = x_train.reshape(x_train.shape[0],x_train.shape[1], 1)\n",
        "x_test = x_test.reshape(x_test.shape[0],x_test.shape[1], 1)"
      ],
      "execution_count": 48,
      "outputs": []
    },
    {
      "cell_type": "code",
      "metadata": {
        "colab": {
          "base_uri": "https://localhost:8080/"
        },
        "id": "fdFefTBwnMNF",
        "outputId": "f5185c79-215f-4ce7-aab7-697331712a24"
      },
      "source": [
        "model1=Sequential()\n",
        "model1.add(LSTM(50,return_sequences=True,input_shape=(100,1)))\n",
        "model1.add(LSTM(50,return_sequences=True))                               # MODEL PREPARED FOR LSTM\n",
        "model1.add(LSTM(50))\n",
        "model1.add(Dense(1))\n",
        "model1.compile(loss='mean_squared_error',optimizer='adam')\n",
        "model1.summary()          #Summary of Model Prepared"
      ],
      "execution_count": 49,
      "outputs": [
        {
          "output_type": "stream",
          "text": [
            "Model: \"sequential_1\"\n",
            "_________________________________________________________________\n",
            "Layer (type)                 Output Shape              Param #   \n",
            "=================================================================\n",
            "lstm (LSTM)                  (None, 100, 50)           10400     \n",
            "_________________________________________________________________\n",
            "lstm_1 (LSTM)                (None, 100, 50)           20200     \n",
            "_________________________________________________________________\n",
            "lstm_2 (LSTM)                (None, 50)                20200     \n",
            "_________________________________________________________________\n",
            "dense_1 (Dense)              (None, 1)                 51        \n",
            "=================================================================\n",
            "Total params: 50,851\n",
            "Trainable params: 50,851\n",
            "Non-trainable params: 0\n",
            "_________________________________________________________________\n"
          ],
          "name": "stdout"
        }
      ]
    },
    {
      "cell_type": "code",
      "metadata": {
        "colab": {
          "base_uri": "https://localhost:8080/"
        },
        "id": "QWrkpjPAnSNq",
        "outputId": "87f59554-a5bf-4b6a-f088-76b0cea5779d"
      },
      "source": [
        "model1.fit(x_train,y_train,validation_data=(x_test,y_test),epochs=10,batch_size=64,verbose=1)    # fitting Model"
      ],
      "execution_count": 50,
      "outputs": [
        {
          "output_type": "stream",
          "text": [
            "Epoch 1/10\n",
            "266/266 [==============================] - 53s 174ms/step - loss: 0.0304 - val_loss: 2.2345e-04\n",
            "Epoch 2/10\n",
            "266/266 [==============================] - 45s 168ms/step - loss: 1.9819e-04 - val_loss: 2.8412e-04\n",
            "Epoch 3/10\n",
            "266/266 [==============================] - 44s 167ms/step - loss: 2.0614e-04 - val_loss: 2.9589e-04\n",
            "Epoch 4/10\n",
            "266/266 [==============================] - 44s 165ms/step - loss: 1.9403e-04 - val_loss: 1.7376e-04\n",
            "Epoch 5/10\n",
            "266/266 [==============================] - 44s 166ms/step - loss: 1.6000e-04 - val_loss: 1.7562e-04\n",
            "Epoch 6/10\n",
            "266/266 [==============================] - 44s 165ms/step - loss: 1.5515e-04 - val_loss: 1.6700e-04\n",
            "Epoch 7/10\n",
            "266/266 [==============================] - 44s 165ms/step - loss: 1.4684e-04 - val_loss: 1.5997e-04\n",
            "Epoch 8/10\n",
            "266/266 [==============================] - 44s 166ms/step - loss: 1.4767e-04 - val_loss: 1.2454e-04\n",
            "Epoch 9/10\n",
            "266/266 [==============================] - 44s 165ms/step - loss: 1.4907e-04 - val_loss: 1.0456e-04\n",
            "Epoch 10/10\n",
            "266/266 [==============================] - 44s 166ms/step - loss: 1.1700e-04 - val_loss: 9.4602e-05\n"
          ],
          "name": "stdout"
        },
        {
          "output_type": "execute_result",
          "data": {
            "text/plain": [
              "<keras.callbacks.History at 0x7fd5ff5ead50>"
            ]
          },
          "metadata": {
            "tags": []
          },
          "execution_count": 50
        }
      ]
    },
    {
      "cell_type": "code",
      "metadata": {
        "id": "COGUtk9x6uMD"
      },
      "source": [
        "model.save(\"model1.h5\")"
      ],
      "execution_count": 51,
      "outputs": []
    },
    {
      "cell_type": "code",
      "metadata": {
        "id": "NQ35TwHBofoa"
      },
      "source": [
        "train_predict=model1.predict(x_train)\n",
        "test_predict=model1.predict(x_test)"
      ],
      "execution_count": 52,
      "outputs": []
    },
    {
      "cell_type": "code",
      "metadata": {
        "id": "93DwjJ1woj4z"
      },
      "source": [
        "train_predict=scaler.inverse_transform(train_predict)\n",
        "test_predict=scaler.inverse_transform(test_predict)"
      ],
      "execution_count": 53,
      "outputs": []
    },
    {
      "cell_type": "code",
      "metadata": {
        "colab": {
          "base_uri": "https://localhost:8080/"
        },
        "id": "ZQ_mRV-_orVg",
        "outputId": "b7c34c04-6878-4803-9545-cd60747843d4"
      },
      "source": [
        "math.sqrt(mean_squared_error(y_train,train_predict))"
      ],
      "execution_count": 54,
      "outputs": [
        {
          "output_type": "execute_result",
          "data": {
            "text/plain": [
              "14683.472932370843"
            ]
          },
          "metadata": {
            "tags": []
          },
          "execution_count": 54
        }
      ]
    },
    {
      "cell_type": "code",
      "metadata": {
        "colab": {
          "base_uri": "https://localhost:8080/"
        },
        "id": "ZLF1Vf27ozxz",
        "outputId": "59a41ce7-7c50-4a87-a60f-4ff5a11027f9"
      },
      "source": [
        "math.sqrt(mean_squared_error(y_test,test_predict))"
      ],
      "execution_count": 55,
      "outputs": [
        {
          "output_type": "execute_result",
          "data": {
            "text/plain": [
              "14788.811011088963"
            ]
          },
          "metadata": {
            "tags": []
          },
          "execution_count": 55
        }
      ]
    },
    {
      "cell_type": "code",
      "metadata": {
        "id": "-aWKUl-Jo7mJ",
        "colab": {
          "base_uri": "https://localhost:8080/",
          "height": 610
        },
        "outputId": "45187960-d8dc-4405-af6c-8b74f17c1704"
      },
      "source": [
        "plt.figure(figsize=(16,10))\n",
        "look_back=100\n",
        "trainPredictPlot = numpy.empty_like(df5)\n",
        "trainPredictPlot[:, :] = np.nan\n",
        "trainPredictPlot[look_back:len(train_predict)+look_back, :] = train_predict\n",
        "\n",
        "testPredictPlot = numpy.empty_like(df5)\n",
        "testPredictPlot[:, :] = numpy.nan\n",
        "testPredictPlot[len(train_predict)+(look_back*2)+1:len(df5)-1, :] = test_predict\n",
        "\n",
        "plt.plot(scaler.inverse_transform(df5))\n",
        "plt.plot(trainPredictPlot)\n",
        "plt.plot(testPredictPlot)\n",
        "plt.xlabel('Date',fontsize=18)\n",
        "plt.ylabel('Close Price',fontsize=18)\n",
        "plt.legend(['Actual Price','Train Predictions', 'Test Predictions'], loc='upper left')\n",
        "plt.show()"
      ],
      "execution_count": 56,
      "outputs": [
        {
          "output_type": "display_data",
          "data": {
            "image/png": "[encoded data removed]",
            "text/plain": [
              "<Figure size 1152x720 with 1 Axes>"
            ]
          },
          "metadata": {
            "tags": [],
            "needs_background": "light"
          }
        }
      ]
    },
    {
      "cell_type": "code",
      "metadata": {
        "id": "b8wUUjQepXQE",
        "colab": {
          "base_uri": "https://localhost:8080/"
        },
        "outputId": "d4063e7b-8d23-4998-f541-c35ae27fb71a"
      },
      "source": [
        "len(test_data)"
      ],
      "execution_count": 57,
      "outputs": [
        {
          "output_type": "execute_result",
          "data": {
            "text/plain": [
              "5702"
            ]
          },
          "metadata": {
            "tags": []
          },
          "execution_count": 57
        }
      ]
    },
    {
      "cell_type": "code",
      "metadata": {
        "id": "Ei5SCYQ8pf6a",
        "colab": {
          "base_uri": "https://localhost:8080/"
        },
        "outputId": "674e5a5e-0b5d-48bf-9f72-a5cd2f8d97a1"
      },
      "source": [
        "x_input = test_data[5602:].reshape(1,-1)\n",
        "x_input.shape"
      ],
      "execution_count": 58,
      "outputs": [
        {
          "output_type": "execute_result",
          "data": {
            "text/plain": [
              "(1, 100)"
            ]
          },
          "metadata": {
            "tags": []
          },
          "execution_count": 58
        }
      ]
    },
    {
      "cell_type": "code",
      "metadata": {
        "id": "XjPmFv7Fp-7C",
        "colab": {
          "base_uri": "https://localhost:8080/"
        },
        "outputId": "d7379f4e-2845-4ad2-d4d9-33b31ee0341e"
      },
      "source": [
        "temp_input=list(x_input)\n",
        "temp_input=temp_input[0].tolist()\n",
        "temp_input"
      ],
      "execution_count": 59,
      "outputs": [
        {
          "output_type": "execute_result",
          "data": {
            "text/plain": [
              "[0.6098555324504762,\n",
              " 0.61152457042793,\n",
              " 0.6153551493925793,\n",
              " 0.6164496005253355,\n",
              " 0.6177903031629626,\n",
              " 0.6115519317062486,\n",
              " 0.6155740396191316,\n",
              " 0.6164496005253355,\n",
              " 0.618857393017402,\n",
              " 0.6203349020466238,\n",
              " 0.6189668381306763,\n",
              " 0.6160118200722327,\n",
              " 0.6207726824997266,\n",
              " 0.6202254569333476,\n",
              " 0.6164222392470169,\n",
              " 0.6163401554120611,\n",
              " 0.6169421035350773,\n",
              " 0.6142333369815027,\n",
              " 0.6220586625807147,\n",
              " 0.6194046185837809,\n",
              " 0.6207453212214062,\n",
              " 0.6231804749917913,\n",
              " 0.6214567144577003,\n",
              " 0.6226332494254123,\n",
              " 0.6254514610922612,\n",
              " 0.6266006347816564,\n",
              " 0.6231804749917913,\n",
              " 0.6180639159461521,\n",
              " 0.6208000437780452,\n",
              " 0.6204990697165371,\n",
              " 0.6162854328554221,\n",
              " 0.6161212651855088,\n",
              " 0.6124822151690914,\n",
              " 0.6132209696837023,\n",
              " 0.612919995622196,\n",
              " 0.6092262230491414,\n",
              " 0.6078855204115126,\n",
              " 0.6083506621429358,\n",
              " 0.6018934004596694,\n",
              " 0.6026868775309175,\n",
              " 0.6007989493269132,\n",
              " 0.6048757797964317,\n",
              " 0.6076939914632806,\n",
              " 0.6074477399584115,\n",
              " 0.6102933129035772,\n",
              " 0.6101291452336657,\n",
              " 0.6077213527415992,\n",
              " 0.6055324504760868,\n",
              " 0.6008263106052318,\n",
              " 0.6041643865601394,\n",
              " 0.6067910692787564,\n",
              " 0.605587173032724,\n",
              " 0.6030425741490628,\n",
              " 0.6061070373207826,\n",
              " 0.6082959395862968,\n",
              " 0.6055598117544054,\n",
              " 0.6067637080004378,\n",
              " 0.6058881470942321,\n",
              " 0.604547444456605,\n",
              " 0.6070920433402645,\n",
              " 0.6084327459778915,\n",
              " 0.6095271971106477,\n",
              " 0.6104027580168534,\n",
              " 0.6111415125314661,\n",
              " 0.6073109335668168,\n",
              " 0.6077213527415992,\n",
              " 0.6158476524023211,\n",
              " 0.613111524570428,\n",
              " 0.6151088978877084,\n",
              " 0.5992119951844135,\n",
              " 0.5899638831126186,\n",
              " 0.5881306774652497,\n",
              " 0.5902101346174895,\n",
              " 0.5908941665754615,\n",
              " 0.5872824778373644,\n",
              " 0.5960107256211007,\n",
              " 0.5986647696180363,\n",
              " 0.6014829812848852,\n",
              " 0.6006074203786795,\n",
              " 0.5981175440516573,\n",
              " 0.5980901827733387,\n",
              " 0.594587939148516,\n",
              " 0.6007442267702743,\n",
              " 0.5972967057020888,\n",
              " 0.5965032286308407,\n",
              " 0.5970504541972197,\n",
              " 0.5952719711064898,\n",
              " 0.595627667724635,\n",
              " 0.5931377913976146,\n",
              " 0.5938218233555865,\n",
              " 0.5907299989055481,\n",
              " 0.5942322425303708,\n",
              " 0.5922895917697275,\n",
              " 0.5937123782423104,\n",
              " 0.5936576556856732,\n",
              " 0.5952719711064898,\n",
              " 0.5945605778701974,\n",
              " 0.5956550290029536,\n",
              " 0.5966126737441169,\n",
              " 0.5953266936631287]"
            ]
          },
          "metadata": {
            "tags": []
          },
          "execution_count": 59
        }
      ]
    },
    {
      "cell_type": "code",
      "metadata": {
        "id": "GAeCvNbcqGX0",
        "colab": {
          "base_uri": "https://localhost:8080/"
        },
        "outputId": "b627b333-64f4-43eb-ef97-2e3feb345b3a"
      },
      "source": [
        "#predictions for next 10 minutes\n",
        "from numpy import array\n",
        "min_output=[]\n",
        "n_steps=100\n",
        "i=0\n",
        "while(i<10):\n",
        "  if(len(temp_input)>100):\n",
        "    x_input=np.array(temp_input[1:])\n",
        "    print(\"{} day input {}\".format(i,x_input))\n",
        "    x_input=x_input.reshape(1,-1)\n",
        "    x_input=x_input.reshape((1,n_steps,1))\n",
        "    yhat = model1.predict(x_input,verbose=0)\n",
        "    print(\"{} day output {}\".format(i,yhat))\n",
        "    temp_input.extend(yhat[0].tolist())\n",
        "    temp_input=temp_input[1:]\n",
        "    min_output.extend(yhat.tolist())\n",
        "    i=i+1\n",
        "  else:\n",
        "    x_input = x_input.reshape((1,n_steps,1))\n",
        "    yhat = model1.predict(x_input,verbose=0)\n",
        "    print(yhat[0])\n",
        "    temp_input.extend(yhat[0].tolist())\n",
        "    print(len(temp_input))\n",
        "    min_output.extend(yhat.tolist())\n",
        "    i=i+1\n",
        "\n",
        "print(min_output)"
      ],
      "execution_count": 60,
      "outputs": [
        {
          "output_type": "stream",
          "text": [
            "[0.5946742]\n",
            "101\n",
            "1 day input [0.61152457 0.61535515 0.6164496  0.6177903  0.61155193 0.61557404\n",
            " 0.6164496  0.61885739 0.6203349  0.61896684 0.61601182 0.62077268\n",
            " 0.62022546 0.61642224 0.61634016 0.6169421  0.61423334 0.62205866\n",
            " 0.61940462 0.62074532 0.62318047 0.62145671 0.62263325 0.62545146\n",
            " 0.62660063 0.62318047 0.61806392 0.62080004 0.62049907 0.61628543\n",
            " 0.61612127 0.61248222 0.61322097 0.61292    0.60922622 0.60788552\n",
            " 0.60835066 0.6018934  0.60268688 0.60079895 0.60487578 0.60769399\n",
            " 0.60744774 0.61029331 0.61012915 0.60772135 0.60553245 0.60082631\n",
            " 0.60416439 0.60679107 0.60558717 0.60304257 0.60610704 0.60829594\n",
            " 0.60555981 0.60676371 0.60588815 0.60454744 0.60709204 0.60843275\n",
            " 0.6095272  0.61040276 0.61114151 0.60731093 0.60772135 0.61584765\n",
            " 0.61311152 0.6151089  0.599212   0.58996388 0.58813068 0.59021013\n",
            " 0.59089417 0.58728248 0.59601073 0.59866477 0.60148298 0.60060742\n",
            " 0.59811754 0.59809018 0.59458794 0.60074423 0.59729671 0.59650323\n",
            " 0.59705045 0.59527197 0.59562767 0.59313779 0.59382182 0.59073\n",
            " 0.59423224 0.59228959 0.59371238 0.59365766 0.59527197 0.59456058\n",
            " 0.59565503 0.59661267 0.59532669 0.59467423]\n",
            "1 day output [[0.5950821]]\n",
            "2 day input [0.61535515 0.6164496  0.6177903  0.61155193 0.61557404 0.6164496\n",
            " 0.61885739 0.6203349  0.61896684 0.61601182 0.62077268 0.62022546\n",
            " 0.61642224 0.61634016 0.6169421  0.61423334 0.62205866 0.61940462\n",
            " 0.62074532 0.62318047 0.62145671 0.62263325 0.62545146 0.62660063\n",
            " 0.62318047 0.61806392 0.62080004 0.62049907 0.61628543 0.61612127\n",
            " 0.61248222 0.61322097 0.61292    0.60922622 0.60788552 0.60835066\n",
            " 0.6018934  0.60268688 0.60079895 0.60487578 0.60769399 0.60744774\n",
            " 0.61029331 0.61012915 0.60772135 0.60553245 0.60082631 0.60416439\n",
            " 0.60679107 0.60558717 0.60304257 0.60610704 0.60829594 0.60555981\n",
            " 0.60676371 0.60588815 0.60454744 0.60709204 0.60843275 0.6095272\n",
            " 0.61040276 0.61114151 0.60731093 0.60772135 0.61584765 0.61311152\n",
            " 0.6151089  0.599212   0.58996388 0.58813068 0.59021013 0.59089417\n",
            " 0.58728248 0.59601073 0.59866477 0.60148298 0.60060742 0.59811754\n",
            " 0.59809018 0.59458794 0.60074423 0.59729671 0.59650323 0.59705045\n",
            " 0.59527197 0.59562767 0.59313779 0.59382182 0.59073    0.59423224\n",
            " 0.59228959 0.59371238 0.59365766 0.59527197 0.59456058 0.59565503\n",
            " 0.59661267 0.59532669 0.59467423 0.5950821 ]\n",
            "2 day output [[0.5954581]]\n",
            "3 day input [0.6164496  0.6177903  0.61155193 0.61557404 0.6164496  0.61885739\n",
            " 0.6203349  0.61896684 0.61601182 0.62077268 0.62022546 0.61642224\n",
            " 0.61634016 0.6169421  0.61423334 0.62205866 0.61940462 0.62074532\n",
            " 0.62318047 0.62145671 0.62263325 0.62545146 0.62660063 0.62318047\n",
            " 0.61806392 0.62080004 0.62049907 0.61628543 0.61612127 0.61248222\n",
            " 0.61322097 0.61292    0.60922622 0.60788552 0.60835066 0.6018934\n",
            " 0.60268688 0.60079895 0.60487578 0.60769399 0.60744774 0.61029331\n",
            " 0.61012915 0.60772135 0.60553245 0.60082631 0.60416439 0.60679107\n",
            " 0.60558717 0.60304257 0.60610704 0.60829594 0.60555981 0.60676371\n",
            " 0.60588815 0.60454744 0.60709204 0.60843275 0.6095272  0.61040276\n",
            " 0.61114151 0.60731093 0.60772135 0.61584765 0.61311152 0.6151089\n",
            " 0.599212   0.58996388 0.58813068 0.59021013 0.59089417 0.58728248\n",
            " 0.59601073 0.59866477 0.60148298 0.60060742 0.59811754 0.59809018\n",
            " 0.59458794 0.60074423 0.59729671 0.59650323 0.59705045 0.59527197\n",
            " 0.59562767 0.59313779 0.59382182 0.59073    0.59423224 0.59228959\n",
            " 0.59371238 0.59365766 0.59527197 0.59456058 0.59565503 0.59661267\n",
            " 0.59532669 0.59467423 0.5950821  0.59545809]\n",
            "3 day output [[0.5957877]]\n",
            "4 day input [0.6177903  0.61155193 0.61557404 0.6164496  0.61885739 0.6203349\n",
            " 0.61896684 0.61601182 0.62077268 0.62022546 0.61642224 0.61634016\n",
            " 0.6169421  0.61423334 0.62205866 0.61940462 0.62074532 0.62318047\n",
            " 0.62145671 0.62263325 0.62545146 0.62660063 0.62318047 0.61806392\n",
            " 0.62080004 0.62049907 0.61628543 0.61612127 0.61248222 0.61322097\n",
            " 0.61292    0.60922622 0.60788552 0.60835066 0.6018934  0.60268688\n",
            " 0.60079895 0.60487578 0.60769399 0.60744774 0.61029331 0.61012915\n",
            " 0.60772135 0.60553245 0.60082631 0.60416439 0.60679107 0.60558717\n",
            " 0.60304257 0.60610704 0.60829594 0.60555981 0.60676371 0.60588815\n",
            " 0.60454744 0.60709204 0.60843275 0.6095272  0.61040276 0.61114151\n",
            " 0.60731093 0.60772135 0.61584765 0.61311152 0.6151089  0.599212\n",
            " 0.58996388 0.58813068 0.59021013 0.59089417 0.58728248 0.59601073\n",
            " 0.59866477 0.60148298 0.60060742 0.59811754 0.59809018 0.59458794\n",
            " 0.60074423 0.59729671 0.59650323 0.59705045 0.59527197 0.59562767\n",
            " 0.59313779 0.59382182 0.59073    0.59423224 0.59228959 0.59371238\n",
            " 0.59365766 0.59527197 0.59456058 0.59565503 0.59661267 0.59532669\n",
            " 0.59467423 0.5950821  0.59545809 0.5957877 ]\n",
            "4 day output [[0.5960728]]\n",
            "5 day input [0.61155193 0.61557404 0.6164496  0.61885739 0.6203349  0.61896684\n",
            " 0.61601182 0.62077268 0.62022546 0.61642224 0.61634016 0.6169421\n",
            " 0.61423334 0.62205866 0.61940462 0.62074532 0.62318047 0.62145671\n",
            " 0.62263325 0.62545146 0.62660063 0.62318047 0.61806392 0.62080004\n",
            " 0.62049907 0.61628543 0.61612127 0.61248222 0.61322097 0.61292\n",
            " 0.60922622 0.60788552 0.60835066 0.6018934  0.60268688 0.60079895\n",
            " 0.60487578 0.60769399 0.60744774 0.61029331 0.61012915 0.60772135\n",
            " 0.60553245 0.60082631 0.60416439 0.60679107 0.60558717 0.60304257\n",
            " 0.60610704 0.60829594 0.60555981 0.60676371 0.60588815 0.60454744\n",
            " 0.60709204 0.60843275 0.6095272  0.61040276 0.61114151 0.60731093\n",
            " 0.60772135 0.61584765 0.61311152 0.6151089  0.599212   0.58996388\n",
            " 0.58813068 0.59021013 0.59089417 0.58728248 0.59601073 0.59866477\n",
            " 0.60148298 0.60060742 0.59811754 0.59809018 0.59458794 0.60074423\n",
            " 0.59729671 0.59650323 0.59705045 0.59527197 0.59562767 0.59313779\n",
            " 0.59382182 0.59073    0.59423224 0.59228959 0.59371238 0.59365766\n",
            " 0.59527197 0.59456058 0.59565503 0.59661267 0.59532669 0.59467423\n",
            " 0.5950821  0.59545809 0.5957877  0.59607279]\n",
            "5 day output [[0.5963224]]\n",
            "6 day input [0.61557404 0.6164496  0.61885739 0.6203349  0.61896684 0.61601182\n",
            " 0.62077268 0.62022546 0.61642224 0.61634016 0.6169421  0.61423334\n",
            " 0.62205866 0.61940462 0.62074532 0.62318047 0.62145671 0.62263325\n",
            " 0.62545146 0.62660063 0.62318047 0.61806392 0.62080004 0.62049907\n",
            " 0.61628543 0.61612127 0.61248222 0.61322097 0.61292    0.60922622\n",
            " 0.60788552 0.60835066 0.6018934  0.60268688 0.60079895 0.60487578\n",
            " 0.60769399 0.60744774 0.61029331 0.61012915 0.60772135 0.60553245\n",
            " 0.60082631 0.60416439 0.60679107 0.60558717 0.60304257 0.60610704\n",
            " 0.60829594 0.60555981 0.60676371 0.60588815 0.60454744 0.60709204\n",
            " 0.60843275 0.6095272  0.61040276 0.61114151 0.60731093 0.60772135\n",
            " 0.61584765 0.61311152 0.6151089  0.599212   0.58996388 0.58813068\n",
            " 0.59021013 0.59089417 0.58728248 0.59601073 0.59866477 0.60148298\n",
            " 0.60060742 0.59811754 0.59809018 0.59458794 0.60074423 0.59729671\n",
            " 0.59650323 0.59705045 0.59527197 0.59562767 0.59313779 0.59382182\n",
            " 0.59073    0.59423224 0.59228959 0.59371238 0.59365766 0.59527197\n",
            " 0.59456058 0.59565503 0.59661267 0.59532669 0.59467423 0.5950821\n",
            " 0.59545809 0.5957877  0.59607279 0.59632242]\n",
            "6 day output [[0.5965462]]\n",
            "7 day input [0.6164496  0.61885739 0.6203349  0.61896684 0.61601182 0.62077268\n",
            " 0.62022546 0.61642224 0.61634016 0.6169421  0.61423334 0.62205866\n",
            " 0.61940462 0.62074532 0.62318047 0.62145671 0.62263325 0.62545146\n",
            " 0.62660063 0.62318047 0.61806392 0.62080004 0.62049907 0.61628543\n",
            " 0.61612127 0.61248222 0.61322097 0.61292    0.60922622 0.60788552\n",
            " 0.60835066 0.6018934  0.60268688 0.60079895 0.60487578 0.60769399\n",
            " 0.60744774 0.61029331 0.61012915 0.60772135 0.60553245 0.60082631\n",
            " 0.60416439 0.60679107 0.60558717 0.60304257 0.60610704 0.60829594\n",
            " 0.60555981 0.60676371 0.60588815 0.60454744 0.60709204 0.60843275\n",
            " 0.6095272  0.61040276 0.61114151 0.60731093 0.60772135 0.61584765\n",
            " 0.61311152 0.6151089  0.599212   0.58996388 0.58813068 0.59021013\n",
            " 0.59089417 0.58728248 0.59601073 0.59866477 0.60148298 0.60060742\n",
            " 0.59811754 0.59809018 0.59458794 0.60074423 0.59729671 0.59650323\n",
            " 0.59705045 0.59527197 0.59562767 0.59313779 0.59382182 0.59073\n",
            " 0.59423224 0.59228959 0.59371238 0.59365766 0.59527197 0.59456058\n",
            " 0.59565503 0.59661267 0.59532669 0.59467423 0.5950821  0.59545809\n",
            " 0.5957877  0.59607279 0.59632242 0.59654617]\n",
            "7 day output [[0.59675246]]\n",
            "8 day input [0.61885739 0.6203349  0.61896684 0.61601182 0.62077268 0.62022546\n",
            " 0.61642224 0.61634016 0.6169421  0.61423334 0.62205866 0.61940462\n",
            " 0.62074532 0.62318047 0.62145671 0.62263325 0.62545146 0.62660063\n",
            " 0.62318047 0.61806392 0.62080004 0.62049907 0.61628543 0.61612127\n",
            " 0.61248222 0.61322097 0.61292    0.60922622 0.60788552 0.60835066\n",
            " 0.6018934  0.60268688 0.60079895 0.60487578 0.60769399 0.60744774\n",
            " 0.61029331 0.61012915 0.60772135 0.60553245 0.60082631 0.60416439\n",
            " 0.60679107 0.60558717 0.60304257 0.60610704 0.60829594 0.60555981\n",
            " 0.60676371 0.60588815 0.60454744 0.60709204 0.60843275 0.6095272\n",
            " 0.61040276 0.61114151 0.60731093 0.60772135 0.61584765 0.61311152\n",
            " 0.6151089  0.599212   0.58996388 0.58813068 0.59021013 0.59089417\n",
            " 0.58728248 0.59601073 0.59866477 0.60148298 0.60060742 0.59811754\n",
            " 0.59809018 0.59458794 0.60074423 0.59729671 0.59650323 0.59705045\n",
            " 0.59527197 0.59562767 0.59313779 0.59382182 0.59073    0.59423224\n",
            " 0.59228959 0.59371238 0.59365766 0.59527197 0.59456058 0.59565503\n",
            " 0.59661267 0.59532669 0.59467423 0.5950821  0.59545809 0.5957877\n",
            " 0.59607279 0.59632242 0.59654617 0.59675246]\n",
            "8 day output [[0.5969476]]\n",
            "9 day input [0.6203349  0.61896684 0.61601182 0.62077268 0.62022546 0.61642224\n",
            " 0.61634016 0.6169421  0.61423334 0.62205866 0.61940462 0.62074532\n",
            " 0.62318047 0.62145671 0.62263325 0.62545146 0.62660063 0.62318047\n",
            " 0.61806392 0.62080004 0.62049907 0.61628543 0.61612127 0.61248222\n",
            " 0.61322097 0.61292    0.60922622 0.60788552 0.60835066 0.6018934\n",
            " 0.60268688 0.60079895 0.60487578 0.60769399 0.60744774 0.61029331\n",
            " 0.61012915 0.60772135 0.60553245 0.60082631 0.60416439 0.60679107\n",
            " 0.60558717 0.60304257 0.60610704 0.60829594 0.60555981 0.60676371\n",
            " 0.60588815 0.60454744 0.60709204 0.60843275 0.6095272  0.61040276\n",
            " 0.61114151 0.60731093 0.60772135 0.61584765 0.61311152 0.6151089\n",
            " 0.599212   0.58996388 0.58813068 0.59021013 0.59089417 0.58728248\n",
            " 0.59601073 0.59866477 0.60148298 0.60060742 0.59811754 0.59809018\n",
            " 0.59458794 0.60074423 0.59729671 0.59650323 0.59705045 0.59527197\n",
            " 0.59562767 0.59313779 0.59382182 0.59073    0.59423224 0.59228959\n",
            " 0.59371238 0.59365766 0.59527197 0.59456058 0.59565503 0.59661267\n",
            " 0.59532669 0.59467423 0.5950821  0.59545809 0.5957877  0.59607279\n",
            " 0.59632242 0.59654617 0.59675246 0.59694761]\n",
            "9 day output [[0.5971354]]\n",
            "[[0.5946742296218872], [0.5950821042060852], [0.5954580903053284], [0.5957877039909363], [0.596072793006897], [0.5963224172592163], [0.5965461730957031], [0.5967524647712708], [0.5969476103782654], [0.5971354246139526]]\n"
          ],
          "name": "stdout"
        }
      ]
    },
    {
      "cell_type": "code",
      "metadata": {
        "id": "JADLb2BRqLuB"
      },
      "source": [
        "min_new=np.arange(1,101)\n",
        "min_pred=np.arange(101,111)"
      ],
      "execution_count": 61,
      "outputs": []
    },
    {
      "cell_type": "code",
      "metadata": {
        "id": "HvyzjJFoqQ5H",
        "colab": {
          "base_uri": "https://localhost:8080/"
        },
        "outputId": "6a098c79-b679-424b-a62f-30d96c32355d"
      },
      "source": [
        "len(df5)"
      ],
      "execution_count": 62,
      "outputs": [
        {
          "output_type": "execute_result",
          "data": {
            "text/plain": [
              "22805"
            ]
          },
          "metadata": {
            "tags": []
          },
          "execution_count": 62
        }
      ]
    },
    {
      "cell_type": "code",
      "metadata": {
        "id": "RDFT8ue4qTGG"
      },
      "source": [
        "df6=df5.tolist()\n",
        "df6.extend(min_output)"
      ],
      "execution_count": 63,
      "outputs": []
    },
    {
      "cell_type": "code",
      "metadata": {
        "id": "GnbZShlAqYap",
        "colab": {
          "base_uri": "https://localhost:8080/",
          "height": 644
        },
        "outputId": "20926a34-e5eb-4dbc-b122-dd6b0cfa2d00"
      },
      "source": [
        "plt.figure(figsize=(16,10))\n",
        "plt.plot(min_new,scaler.inverse_transform(df5[22705:]))\n",
        "plt.plot(min_pred,scaler.inverse_transform(min_output))\n",
        "plt.title('Next 10 Minutes Prediction')\n",
        "plt.xlabel('Date',fontsize=18)\n",
        "plt.ylabel('Close Price',fontsize=18)\n",
        "plt.legend(['Actual Price','10 Minutes Predictions'], loc='upper left')"
      ],
      "execution_count": 64,
      "outputs": [
        {
          "output_type": "execute_result",
          "data": {
            "text/plain": [
              "<matplotlib.legend.Legend at 0x7fd5fc194810>"
            ]
          },
          "metadata": {
            "tags": []
          },
          "execution_count": 64
        },
        {
          "output_type": "display_data",
          "data": {
            "image/png": "[encoded data removed]",
            "text/plain": [
              "<Figure size 1152x720 with 1 Axes>"
            ]
          },
          "metadata": {
            "tags": [],
            "needs_background": "light"
          }
        }
      ]
    },
    {
      "cell_type": "markdown",
      "metadata": {
        "id": "uov_zON5mf0t"
      },
      "source": [
        ""
      ]
    },
    {
      "cell_type": "code",
      "metadata": {
        "id": "dlUEnvT5qdHs",
        "colab": {
          "base_uri": "https://localhost:8080/"
        },
        "outputId": "2bce1fc9-67d7-4948-ea17-8f9f8181eace"
      },
      "source": [
        "min_output"
      ],
      "execution_count": 65,
      "outputs": [
        {
          "output_type": "execute_result",
          "data": {
            "text/plain": [
              "[[0.5946742296218872],\n",
              " [0.5950821042060852],\n",
              " [0.5954580903053284],\n",
              " [0.5957877039909363],\n",
              " [0.596072793006897],\n",
              " [0.5963224172592163],\n",
              " [0.5965461730957031],\n",
              " [0.5967524647712708],\n",
              " [0.5969476103782654],\n",
              " [0.5971354246139526]]"
            ]
          },
          "metadata": {
            "tags": []
          },
          "execution_count": 65
        }
      ]
    }
  ]
}